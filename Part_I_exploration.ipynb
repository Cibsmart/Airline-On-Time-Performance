{
 "cells": [
  {
   "cell_type": "markdown",
   "metadata": {},
   "source": [
    "# Airline On-Time Performance Data\n",
    "## by Barnabas Ifebude\n",
    "\n",
    "## Introduction\n",
    "The Airline On-Time Performance dataset reports commercial flights in the United States, including carriers, arrival and departure delays, and reasons for delays, from October 1987 to April 2008."
   ]
  },
  {
   "cell_type": "markdown",
   "metadata": {},
   "source": [
    "## Preliminary Wrangling"
   ]
  },
  {
   "cell_type": "code",
   "execution_count": 1,
   "metadata": {},
   "outputs": [],
   "source": [
    "# import all packages and set plots to be embedded inline\n",
    "import numpy as np\n",
    "import pandas as pd\n",
    "import seaborn as sns\n",
    "from zipfile import ZipFile\n",
    "import matplotlib.pyplot as plt\n",
    "\n",
    "%matplotlib inline"
   ]
  },
  {
   "cell_type": "markdown",
   "metadata": {},
   "source": [
    "Because I couldn't get a unique link to programmatically download the dataset, to replicate this, you will have mannual download the zipped filed [here]((https://dataverse.harvard.edu/dataset.xhtml?persistentId=doi:10.7910/DVN/HG7NV7)) and place it in the *datasets* directory.\n"
   ]
  },
  {
   "cell_type": "code",
   "execution_count": 2,
   "metadata": {},
   "outputs": [],
   "source": [
    "# Extract all files from the zipped file.\n",
    "zipped_file = 'datasets/dataverse_files.zip'\n",
    "path = 'datasets/data'\n",
    "\n",
    "with ZipFile(zipped_file) as zf:\n",
    "    zf.extractall(path)"
   ]
  },
  {
   "cell_type": "code",
   "execution_count": 3,
   "metadata": {},
   "outputs": [],
   "source": [
    "# In the first attempt to load all the data in the dataset into a dataframe, the kernel got frozen\n",
    "# df = pd.DataFrame()\n",
    "\n",
    "# for file in files:\n",
    "#     df_in = minimize_memory_usage(pd.read_csv(path + '/' + file, compression='bz2', encoding='ISO-8859-1'), file)\n",
    "#     df = pd.concat([df, df_in])"
   ]
  },
  {
   "cell_type": "markdown",
   "metadata": {},
   "source": [
    "### Loading Data into a Dataframe\n",
    "\n",
    "Due to the size of the dataset, loading the dataset into a pandas dataframe at once failed. So, an alternative approach was used, by first loading the data into a sqlite database and then loading need data into a dataframe on-the-fly.\n",
    "\n",
    "In the next few cells below, are functions to create and alter database tables, read csv files into the database tables, and load data into a dataframe from sql queries."
   ]
  },
  {
   "cell_type": "code",
   "execution_count": 4,
   "metadata": {},
   "outputs": [],
   "source": [
    "# Import functions needed for data processing\n",
    "%run functions.py"
   ]
  },
  {
   "cell_type": "code",
   "execution_count": 5,
   "metadata": {},
   "outputs": [
    {
     "name": "stderr",
     "output_type": "stream",
     "text": [
      "/Users/cibsmart/codes/ds/udacity-alx/03_visualization/project/functions.py:184: DtypeWarning: Columns (22) have mixed types. Specify dtype option on import or set low_memory=False.\n",
      "  for chunk in pd.read_csv('{}/{}'.format(path, file),\n"
     ]
    }
   ],
   "source": [
    "# Call function to create flights, airports, carriers and plane_data tables \n",
    "create_tables()\n",
    "\n",
    "# Call function to read csv files and insert into the database tables\n",
    "read_data()\n",
    "\n",
    "# Call function to add a computed date column to the flights table\n",
    "add_date_column()"
   ]
  },
  {
   "cell_type": "markdown",
   "metadata": {},
   "source": [
    "### What is the structure of your dataset?\n",
    "\n",
    "There are 118,914,458 records in dataset with 29 features. The table below shows a description of each feature according to [Data Expo 2009: Airline on time data](https://dataverse.harvard.edu/dataset.xhtml?persistentId=doi:10.7910/DVN/HG7NV7).\n",
    "\n",
    "\n",
    "| | Name | Description\n",
    "|-|:------|:------------\n",
    "|1| Year  | 1987 - 2008\n",
    "|2| Month | 1 - 12 \n",
    "|3| DayofMonth| 1 - 31 \n",
    "|4| DayOfWeek | 1 (Monday) - 7 (Sunday) \n",
    "|5| DepTime| actual departure time (local, hhm m) \n",
    "|6| CRSDepTime| scheduled departure time (local, hhmm) \n",
    "|7| ArrTime| actual arrival time (local, hhmm) \n",
    "|8| CRSArrTime| scheduled arrival time (local, hhmm) \n",
    "|9| UniqueCarrier| unique carrier code \n",
    "|10| FlightNum| flight number \n",
    "|11| TailNum| plane tail number \n",
    "|12| ActualElapsedTime| in minutes \n",
    "|13| CRSElapsedTime| in minutes \n",
    "|14| AirTime| in minutes \n",
    "|15| ArrDelay| arrival delay, in minutes \n",
    "|16| DepDelay| departure delay, in minutes \n",
    "|17| Origin| origin IATA airport code \n",
    "|18| Dest| des tination IATA airport code \n",
    "|19| Distance| in miles \n",
    "|20| TaxiIn| taxi in time, in minutes \n",
    "|21| TaxiOut| taxi out time in minutes \n",
    "|22| Cancelled| was the flight cancelled? \n",
    "|23| CancellationCode| reason for cancellation (A = carrier, B = weather, C = NAS, D = security) \n",
    "|24| Diverted| 1 = yes, 0 = no \n",
    "|25| CarrierDelay| in minutes \n",
    "|26| WeatherDelay| in minutes \n",
    "|27| NASDelay| in minutes \n",
    "|28| SecurityDelay| in minutes \n",
    "|29| LateAircraftDelay| in minutes"
   ]
  },
  {
   "cell_type": "markdown",
   "metadata": {},
   "source": [
    "### What is/are the main feature(s) of interest in your dataset?\n",
    "\n",
    "In this analysis, I am most interested in identifying trends in flight and airport delays."
   ]
  },
  {
   "cell_type": "markdown",
   "metadata": {},
   "source": [
    "### What features in the dataset do you think will help support your investigation into your feature(s) of interest?\n",
    "\n",
    "On the one hand, I expect that the airports will have a strong effect on departure deplays: busy airport might experience higher percentage of airport delays. On the other hand the airlines will have strong effect on arrival delays: tight schedules by airlines or airlines with so many flights per day might experience higher percentage of flight delays.\n",
    "\n",
    "> According to [Cirium Aviation Analytics](https://www.cirium.com/thoughtcloud/most-on-time-airlines-and-airports-of-2022-cirium) – **an on-time flight is defined as a flight that arrives within 14 minutes of the schedule gate arrival. For an airport it is defined as departing within 16 minutes of its scheduled departure.**"
   ]
  },
  {
   "cell_type": "markdown",
   "metadata": {},
   "source": [
    "## Univariate Exploration\n",
    "\n",
    "Taking a loot first at the distribution of the main variables of interest: arr_delay and dep_delay"
   ]
  },
  {
   "cell_type": "markdown",
   "metadata": {},
   "source": [
    "#### Distribution of flight delays"
   ]
  },
  {
   "cell_type": "code",
   "execution_count": 6,
   "metadata": {},
   "outputs": [
    {
     "name": "stdout",
     "output_type": "stream",
     "text": [
      "Memory usage before optimization 1.73 GB\n",
      "Memory usage after optimization 1.08 GB\n",
      "Total Run Time: 2 minutes\n"
     ]
    }
   ],
   "source": [
    "# Query to load arr_delay into a dataframe\n",
    "query = \"\"\"\n",
    "    SELECT arr_delay \n",
    "    FROM flights \n",
    "    WHERE arr_delay IS NOT NULL\"\"\"\n",
    "\n",
    "df = query_to_df(query, optimize=True)"
   ]
  },
  {
   "cell_type": "code",
   "execution_count": 7,
   "metadata": {},
   "outputs": [
    {
     "data": {
      "text/html": [
       "<div>\n",
       "<style scoped>\n",
       "    .dataframe tbody tr th:only-of-type {\n",
       "        vertical-align: middle;\n",
       "    }\n",
       "\n",
       "    .dataframe tbody tr th {\n",
       "        vertical-align: top;\n",
       "    }\n",
       "\n",
       "    .dataframe thead th {\n",
       "        text-align: right;\n",
       "    }\n",
       "</style>\n",
       "<table border=\"1\" class=\"dataframe\">\n",
       "  <thead>\n",
       "    <tr style=\"text-align: right;\">\n",
       "      <th></th>\n",
       "      <th>arr_delay</th>\n",
       "    </tr>\n",
       "  </thead>\n",
       "  <tbody>\n",
       "    <tr>\n",
       "      <th>0</th>\n",
       "      <td>23</td>\n",
       "    </tr>\n",
       "    <tr>\n",
       "      <th>1</th>\n",
       "      <td>14</td>\n",
       "    </tr>\n",
       "    <tr>\n",
       "      <th>2</th>\n",
       "      <td>29</td>\n",
       "    </tr>\n",
       "    <tr>\n",
       "      <th>3</th>\n",
       "      <td>-2</td>\n",
       "    </tr>\n",
       "    <tr>\n",
       "      <th>4</th>\n",
       "      <td>33</td>\n",
       "    </tr>\n",
       "  </tbody>\n",
       "</table>\n",
       "</div>"
      ],
      "text/plain": [
       "   arr_delay\n",
       "0         23\n",
       "1         14\n",
       "2         29\n",
       "3         -2\n",
       "4         33"
      ]
     },
     "execution_count": 7,
     "metadata": {},
     "output_type": "execute_result"
    }
   ],
   "source": [
    "df.head()"
   ]
  },
  {
   "cell_type": "code",
   "execution_count": 8,
   "metadata": {},
   "outputs": [
    {
     "name": "stdout",
     "output_type": "stream",
     "text": [
      "<class 'pandas.core.frame.DataFrame'>\n",
      "Int64Index: 116411532 entries, 0 to 1411531\n",
      "Data columns (total 1 columns):\n",
      " #   Column     Dtype\n",
      "---  ------     -----\n",
      " 0   arr_delay  int16\n",
      "dtypes: int16(1)\n",
      "memory usage: 1.1 GB\n"
     ]
    }
   ],
   "source": [
    "df.info()"
   ]
  },
  {
   "cell_type": "code",
   "execution_count": 9,
   "metadata": {},
   "outputs": [
    {
     "data": {
      "text/html": [
       "<div>\n",
       "<style scoped>\n",
       "    .dataframe tbody tr th:only-of-type {\n",
       "        vertical-align: middle;\n",
       "    }\n",
       "\n",
       "    .dataframe tbody tr th {\n",
       "        vertical-align: top;\n",
       "    }\n",
       "\n",
       "    .dataframe thead th {\n",
       "        text-align: right;\n",
       "    }\n",
       "</style>\n",
       "<table border=\"1\" class=\"dataframe\">\n",
       "  <thead>\n",
       "    <tr style=\"text-align: right;\">\n",
       "      <th></th>\n",
       "      <th>arr_delay</th>\n",
       "    </tr>\n",
       "  </thead>\n",
       "  <tbody>\n",
       "    <tr>\n",
       "      <th>count</th>\n",
       "      <td>1.164115e+08</td>\n",
       "    </tr>\n",
       "    <tr>\n",
       "      <th>mean</th>\n",
       "      <td>7.048319e+00</td>\n",
       "    </tr>\n",
       "    <tr>\n",
       "      <th>std</th>\n",
       "      <td>3.043998e+01</td>\n",
       "    </tr>\n",
       "    <tr>\n",
       "      <th>min</th>\n",
       "      <td>-1.437000e+03</td>\n",
       "    </tr>\n",
       "    <tr>\n",
       "      <th>25%</th>\n",
       "      <td>-7.000000e+00</td>\n",
       "    </tr>\n",
       "    <tr>\n",
       "      <th>50%</th>\n",
       "      <td>0.000000e+00</td>\n",
       "    </tr>\n",
       "    <tr>\n",
       "      <th>75%</th>\n",
       "      <td>1.100000e+01</td>\n",
       "    </tr>\n",
       "    <tr>\n",
       "      <th>max</th>\n",
       "      <td>2.598000e+03</td>\n",
       "    </tr>\n",
       "  </tbody>\n",
       "</table>\n",
       "</div>"
      ],
      "text/plain": [
       "          arr_delay\n",
       "count  1.164115e+08\n",
       "mean   7.048319e+00\n",
       "std    3.043998e+01\n",
       "min   -1.437000e+03\n",
       "25%   -7.000000e+00\n",
       "50%    0.000000e+00\n",
       "75%    1.100000e+01\n",
       "max    2.598000e+03"
      ]
     },
     "execution_count": 9,
     "metadata": {},
     "output_type": "execute_result"
    }
   ],
   "source": [
    "df.describe()"
   ]
  },
  {
   "cell_type": "code",
   "execution_count": 10,
   "metadata": {},
   "outputs": [
    {
     "data": {
      "image/png": "[encoded data removed]",
      "text/plain": [
       "<Figure size 640x480 with 1 Axes>"
      ]
     },
     "metadata": {},
     "output_type": "display_data"
    }
   ],
   "source": [
    "bins = np.arange(-1500, 2500 + 50, 50)\n",
    "df.arr_delay.hist(bins=bins)\n",
    "plt.title('Distribution of Flight Delays')\n",
    "plt.xlabel('Flight Delays (mins)')\n",
    "plt.ylabel('Number Flights (millions)')\n",
    "plt.yticks([0, 10000000, 20000000, 30000000, 40000000, 50000000], ['0', '10M', '20M', '30M', '40M', '50M']);"
   ]
  },
  {
   "cell_type": "code",
   "execution_count": 11,
   "metadata": {},
   "outputs": [
    {
     "data": {
      "image/png": "[encoded data removed]",
      "text/plain": [
       "<Figure size 640x480 with 1 Axes>"
      ]
     },
     "metadata": {},
     "output_type": "display_data"
    }
   ],
   "source": [
    "# Most the flight delays were between -50 and 50, \n",
    "# making most of the bins invisible, let apply a log scale on the y-axis\n",
    "bins = np.arange(-1500, 2500 + 60, 60)\n",
    "df.arr_delay.hist(bins=bins)\n",
    "plt.title('Distribution of Flight Delays')\n",
    "plt.xlabel('Flight Delays (mins)')\n",
    "plt.ylabel('Number Flights')\n",
    "plt.yscale('log')\n",
    "plt.yticks([10, 1000, 100000, 10000000], ['10', '1K', '100K', '10M']);"
   ]
  },
  {
   "cell_type": "markdown",
   "metadata": {},
   "source": [
    "The distribution of flight delay in minutes is unimodal with a peak between -50 and 50 minutes. More than 90% of flight arrived between -50 and 50 minutes of the schedule time.\n",
    "\n",
    "Next we will look at the distribution of departure (airport) delays."
   ]
  },
  {
   "cell_type": "markdown",
   "metadata": {},
   "source": [
    "#### Distribution of airport delays"
   ]
  },
  {
   "cell_type": "code",
   "execution_count": 12,
   "metadata": {},
   "outputs": [
    {
     "name": "stdout",
     "output_type": "stream",
     "text": [
      "Memory usage before optimization 1.74 GB\n",
      "Memory usage after optimization 1.09 GB\n",
      "Total Run Time: 2 minutes\n"
     ]
    }
   ],
   "source": [
    "# Query to load arr_delay into a dataframe\n",
    "query = \"\"\"\n",
    "    SELECT dep_delay \n",
    "    FROM flights \n",
    "    WHERE dep_delay IS NOT NULL\"\"\"\n",
    "\n",
    "df = query_to_df(query, optimize=True)"
   ]
  },
  {
   "cell_type": "code",
   "execution_count": 13,
   "metadata": {},
   "outputs": [
    {
     "data": {
      "text/html": [
       "<div>\n",
       "<style scoped>\n",
       "    .dataframe tbody tr th:only-of-type {\n",
       "        vertical-align: middle;\n",
       "    }\n",
       "\n",
       "    .dataframe tbody tr th {\n",
       "        vertical-align: top;\n",
       "    }\n",
       "\n",
       "    .dataframe thead th {\n",
       "        text-align: right;\n",
       "    }\n",
       "</style>\n",
       "<table border=\"1\" class=\"dataframe\">\n",
       "  <thead>\n",
       "    <tr style=\"text-align: right;\">\n",
       "      <th></th>\n",
       "      <th>dep_delay</th>\n",
       "    </tr>\n",
       "  </thead>\n",
       "  <tbody>\n",
       "    <tr>\n",
       "      <th>0</th>\n",
       "      <td>11</td>\n",
       "    </tr>\n",
       "    <tr>\n",
       "      <th>1</th>\n",
       "      <td>-1</td>\n",
       "    </tr>\n",
       "    <tr>\n",
       "      <th>2</th>\n",
       "      <td>11</td>\n",
       "    </tr>\n",
       "    <tr>\n",
       "      <th>3</th>\n",
       "      <td>-1</td>\n",
       "    </tr>\n",
       "    <tr>\n",
       "      <th>4</th>\n",
       "      <td>19</td>\n",
       "    </tr>\n",
       "  </tbody>\n",
       "</table>\n",
       "</div>"
      ],
      "text/plain": [
       "   dep_delay\n",
       "0         11\n",
       "1         -1\n",
       "2         11\n",
       "3         -1\n",
       "4         19"
      ]
     },
     "execution_count": 13,
     "metadata": {},
     "output_type": "execute_result"
    }
   ],
   "source": [
    "df.head()"
   ]
  },
  {
   "cell_type": "code",
   "execution_count": 14,
   "metadata": {},
   "outputs": [
    {
     "name": "stdout",
     "output_type": "stream",
     "text": [
      "<class 'pandas.core.frame.DataFrame'>\n",
      "Int64Index: 116684126 entries, 0 to 1684125\n",
      "Data columns (total 1 columns):\n",
      " #   Column     Dtype\n",
      "---  ------     -----\n",
      " 0   dep_delay  int16\n",
      "dtypes: int16(1)\n",
      "memory usage: 1.1 GB\n"
     ]
    }
   ],
   "source": [
    "df.info()"
   ]
  },
  {
   "cell_type": "code",
   "execution_count": 15,
   "metadata": {},
   "outputs": [
    {
     "data": {
      "text/html": [
       "<div>\n",
       "<style scoped>\n",
       "    .dataframe tbody tr th:only-of-type {\n",
       "        vertical-align: middle;\n",
       "    }\n",
       "\n",
       "    .dataframe tbody tr th {\n",
       "        vertical-align: top;\n",
       "    }\n",
       "\n",
       "    .dataframe thead th {\n",
       "        text-align: right;\n",
       "    }\n",
       "</style>\n",
       "<table border=\"1\" class=\"dataframe\">\n",
       "  <thead>\n",
       "    <tr style=\"text-align: right;\">\n",
       "      <th></th>\n",
       "      <th>dep_delay</th>\n",
       "    </tr>\n",
       "  </thead>\n",
       "  <tbody>\n",
       "    <tr>\n",
       "      <th>count</th>\n",
       "      <td>1.166841e+08</td>\n",
       "    </tr>\n",
       "    <tr>\n",
       "      <th>mean</th>\n",
       "      <td>8.129630e+00</td>\n",
       "    </tr>\n",
       "    <tr>\n",
       "      <th>std</th>\n",
       "      <td>2.824205e+01</td>\n",
       "    </tr>\n",
       "    <tr>\n",
       "      <th>min</th>\n",
       "      <td>-1.410000e+03</td>\n",
       "    </tr>\n",
       "    <tr>\n",
       "      <th>25%</th>\n",
       "      <td>-2.000000e+00</td>\n",
       "    </tr>\n",
       "    <tr>\n",
       "      <th>50%</th>\n",
       "      <td>0.000000e+00</td>\n",
       "    </tr>\n",
       "    <tr>\n",
       "      <th>75%</th>\n",
       "      <td>6.000000e+00</td>\n",
       "    </tr>\n",
       "    <tr>\n",
       "      <th>max</th>\n",
       "      <td>2.601000e+03</td>\n",
       "    </tr>\n",
       "  </tbody>\n",
       "</table>\n",
       "</div>"
      ],
      "text/plain": [
       "          dep_delay\n",
       "count  1.166841e+08\n",
       "mean   8.129630e+00\n",
       "std    2.824205e+01\n",
       "min   -1.410000e+03\n",
       "25%   -2.000000e+00\n",
       "50%    0.000000e+00\n",
       "75%    6.000000e+00\n",
       "max    2.601000e+03"
      ]
     },
     "execution_count": 15,
     "metadata": {},
     "output_type": "execute_result"
    }
   ],
   "source": [
    "df.describe()"
   ]
  },
  {
   "cell_type": "code",
   "execution_count": 16,
   "metadata": {},
   "outputs": [
    {
     "data": {
      "image/png": "[encoded data removed]",
      "text/plain": [
       "<Figure size 640x480 with 1 Axes>"
      ]
     },
     "metadata": {},
     "output_type": "display_data"
    }
   ],
   "source": [
    "bins = np.arange(-1500, 2500 + 50, 50)\n",
    "df.dep_delay.hist(bins=bins)\n",
    "plt.title('Distribution of Airport Delays')\n",
    "plt.xlabel('Airport Delays (mins)')\n",
    "plt.ylabel('Number Flights (millions)')\n",
    "plt.yticks([0, 10000000, 20000000, 30000000, 40000000, 50000000, 60000000, 70000000], ['0', '10M', '20M', '30M', '40M', '50M', '60M', '70M']);"
   ]
  },
  {
   "cell_type": "code",
   "execution_count": 17,
   "metadata": {},
   "outputs": [
    {
     "data": {
      "image/png": "[encoded data removed]",
      "text/plain": [
       "<Figure size 640x480 with 1 Axes>"
      ]
     },
     "metadata": {},
     "output_type": "display_data"
    }
   ],
   "source": [
    "# Most the airport delays were between -50 and 50 just like the flight delays, \n",
    "# making most of the bins invisible, let apply a log scale on the y-axis\n",
    "bins = np.arange(-1500, 2500 + 60, 60)\n",
    "df.dep_delay.hist(bins=bins)\n",
    "plt.title('Distribution of Airport Delays')\n",
    "plt.xlabel('Airport Delays (mins)')\n",
    "plt.ylabel('Number Flights')\n",
    "plt.yscale('log')\n",
    "plt.yticks([10, 1000, 100000, 10000000], ['10', '1K', '100K', '10M']);"
   ]
  },
  {
   "cell_type": "markdown",
   "metadata": {},
   "source": [
    "Just like the distribution of flight delays, the distribution of airport delays is unimodal with a peak between -50 and 50 minutes. More than 90% of flights departed from the airport between -50 and 50 minutes of the scheduled departure.\n",
    "\n",
    "Next we will look at the number of flights per airline."
   ]
  },
  {
   "cell_type": "markdown",
   "metadata": {},
   "source": [
    "#### Yearly number of flights "
   ]
  },
  {
   "cell_type": "code",
   "execution_count": 18,
   "metadata": {},
   "outputs": [
    {
     "name": "stdout",
     "output_type": "stream",
     "text": [
      "Total Run Time: 1 minutes\n"
     ]
    }
   ],
   "source": [
    "query = \"\"\"\n",
    "    SELECT year, COUNT(*) num_flights\n",
    "    FROM flights\n",
    "    GROUP BY year\"\"\"\n",
    "\n",
    "flights_yearly = query_to_df(query)"
   ]
  },
  {
   "cell_type": "code",
   "execution_count": 19,
   "metadata": {},
   "outputs": [
    {
     "data": {
      "text/html": [
       "<div>\n",
       "<style scoped>\n",
       "    .dataframe tbody tr th:only-of-type {\n",
       "        vertical-align: middle;\n",
       "    }\n",
       "\n",
       "    .dataframe tbody tr th {\n",
       "        vertical-align: top;\n",
       "    }\n",
       "\n",
       "    .dataframe thead th {\n",
       "        text-align: right;\n",
       "    }\n",
       "</style>\n",
       "<table border=\"1\" class=\"dataframe\">\n",
       "  <thead>\n",
       "    <tr style=\"text-align: right;\">\n",
       "      <th></th>\n",
       "      <th>year</th>\n",
       "      <th>num_flights</th>\n",
       "    </tr>\n",
       "  </thead>\n",
       "  <tbody>\n",
       "    <tr>\n",
       "      <th>0</th>\n",
       "      <td>1987</td>\n",
       "      <td>1311826</td>\n",
       "    </tr>\n",
       "    <tr>\n",
       "      <th>1</th>\n",
       "      <td>1988</td>\n",
       "      <td>5202096</td>\n",
       "    </tr>\n",
       "    <tr>\n",
       "      <th>2</th>\n",
       "      <td>1989</td>\n",
       "      <td>5041200</td>\n",
       "    </tr>\n",
       "    <tr>\n",
       "      <th>3</th>\n",
       "      <td>1990</td>\n",
       "      <td>5270893</td>\n",
       "    </tr>\n",
       "    <tr>\n",
       "      <th>4</th>\n",
       "      <td>1991</td>\n",
       "      <td>5076925</td>\n",
       "    </tr>\n",
       "    <tr>\n",
       "      <th>5</th>\n",
       "      <td>1992</td>\n",
       "      <td>5092157</td>\n",
       "    </tr>\n",
       "    <tr>\n",
       "      <th>6</th>\n",
       "      <td>1993</td>\n",
       "      <td>5070501</td>\n",
       "    </tr>\n",
       "    <tr>\n",
       "      <th>7</th>\n",
       "      <td>1994</td>\n",
       "      <td>5180048</td>\n",
       "    </tr>\n",
       "    <tr>\n",
       "      <th>8</th>\n",
       "      <td>1995</td>\n",
       "      <td>5327435</td>\n",
       "    </tr>\n",
       "    <tr>\n",
       "      <th>9</th>\n",
       "      <td>1996</td>\n",
       "      <td>5351983</td>\n",
       "    </tr>\n",
       "    <tr>\n",
       "      <th>10</th>\n",
       "      <td>1997</td>\n",
       "      <td>5411843</td>\n",
       "    </tr>\n",
       "    <tr>\n",
       "      <th>11</th>\n",
       "      <td>1998</td>\n",
       "      <td>5384721</td>\n",
       "    </tr>\n",
       "    <tr>\n",
       "      <th>12</th>\n",
       "      <td>1999</td>\n",
       "      <td>5527884</td>\n",
       "    </tr>\n",
       "    <tr>\n",
       "      <th>13</th>\n",
       "      <td>2000</td>\n",
       "      <td>5683047</td>\n",
       "    </tr>\n",
       "    <tr>\n",
       "      <th>14</th>\n",
       "      <td>2001</td>\n",
       "      <td>5967780</td>\n",
       "    </tr>\n",
       "    <tr>\n",
       "      <th>15</th>\n",
       "      <td>2002</td>\n",
       "      <td>5271359</td>\n",
       "    </tr>\n",
       "    <tr>\n",
       "      <th>16</th>\n",
       "      <td>2003</td>\n",
       "      <td>6488540</td>\n",
       "    </tr>\n",
       "    <tr>\n",
       "      <th>17</th>\n",
       "      <td>2004</td>\n",
       "      <td>7129270</td>\n",
       "    </tr>\n",
       "    <tr>\n",
       "      <th>18</th>\n",
       "      <td>2005</td>\n",
       "      <td>7140596</td>\n",
       "    </tr>\n",
       "    <tr>\n",
       "      <th>19</th>\n",
       "      <td>2006</td>\n",
       "      <td>7141922</td>\n",
       "    </tr>\n",
       "    <tr>\n",
       "      <th>20</th>\n",
       "      <td>2007</td>\n",
       "      <td>7453215</td>\n",
       "    </tr>\n",
       "    <tr>\n",
       "      <th>21</th>\n",
       "      <td>2008</td>\n",
       "      <td>2389217</td>\n",
       "    </tr>\n",
       "  </tbody>\n",
       "</table>\n",
       "</div>"
      ],
      "text/plain": [
       "    year  num_flights\n",
       "0   1987      1311826\n",
       "1   1988      5202096\n",
       "2   1989      5041200\n",
       "3   1990      5270893\n",
       "4   1991      5076925\n",
       "5   1992      5092157\n",
       "6   1993      5070501\n",
       "7   1994      5180048\n",
       "8   1995      5327435\n",
       "9   1996      5351983\n",
       "10  1997      5411843\n",
       "11  1998      5384721\n",
       "12  1999      5527884\n",
       "13  2000      5683047\n",
       "14  2001      5967780\n",
       "15  2002      5271359\n",
       "16  2003      6488540\n",
       "17  2004      7129270\n",
       "18  2005      7140596\n",
       "19  2006      7141922\n",
       "20  2007      7453215\n",
       "21  2008      2389217"
      ]
     },
     "execution_count": 19,
     "metadata": {},
     "output_type": "execute_result"
    }
   ],
   "source": [
    "flights_yearly"
   ]
  },
  {
   "cell_type": "code",
   "execution_count": 20,
   "metadata": {},
   "outputs": [
    {
     "data": {
      "image/png": "[encoded data removed]",
      "text/plain": [
       "<Figure size 800x480 with 1 Axes>"
      ]
     },
     "metadata": {},
     "output_type": "display_data"
    }
   ],
   "source": [
    "#plt.figure(figsize((6.4, 4.8))) default\n",
    "plt.figure(figsize=(8, 4.8))\n",
    "plt.bar(flights_yearly.year, flights_yearly.num_flights)\n",
    "plt.title('Number of flights per year in the US')\n",
    "plt.xlabel('Years')\n",
    "plt.ylabel('Number of flights (millions)')\n",
    "plt.xticks(flights_yearly.year, rotation=90)\n",
    "plt.yticks([0.0, 1000000, 2000000, 3000000, 4000000, 5000000, 6000000, 7000000], ['0', '1M', '2M', '3M', '4M', '5M', '6M', '7M']);"
   ]
  },
  {
   "cell_type": "markdown",
   "metadata": {},
   "source": [
    "Generally, the yearly total number of flights were trending up until 2001, and there was a significant drop in the total number of flights across the US after the 9/11 attacks in 2001, which probably caused the drop in 2002. However, the trend resumed again in 2003 as nothing had happened."
   ]
  },
  {
   "cell_type": "markdown",
   "metadata": {},
   "source": [
    "#### Monthly Number of flights"
   ]
  },
  {
   "cell_type": "code",
   "execution_count": 21,
   "metadata": {},
   "outputs": [
    {
     "name": "stdout",
     "output_type": "stream",
     "text": [
      "Total Run Time: 1 minutes\n"
     ]
    }
   ],
   "source": [
    "query = \"\"\"\n",
    "    SELECT month, COUNT(*) num_flights\n",
    "    FROM flights\n",
    "    GROUP BY month\"\"\"\n",
    "\n",
    "flights_monthly = query_to_df(query)"
   ]
  },
  {
   "cell_type": "code",
   "execution_count": 22,
   "metadata": {},
   "outputs": [
    {
     "name": "stdout",
     "output_type": "stream",
     "text": [
      "Total Run Time: 1 minutes\n"
     ]
    }
   ],
   "source": [
    "query = \"\"\"\n",
    "    SELECT month, COUNT(*) num_flights\n",
    "    FROM flights\n",
    "    WHERE year BETWEEN 1988 and 2007\n",
    "    GROUP BY month\"\"\"\n",
    "\n",
    "flights_monthly_ = query_to_df(query)"
   ]
  },
  {
   "cell_type": "code",
   "execution_count": 23,
   "metadata": {},
   "outputs": [
    {
     "data": {
      "text/html": [
       "<div>\n",
       "<style scoped>\n",
       "    .dataframe tbody tr th:only-of-type {\n",
       "        vertical-align: middle;\n",
       "    }\n",
       "\n",
       "    .dataframe tbody tr th {\n",
       "        vertical-align: top;\n",
       "    }\n",
       "\n",
       "    .dataframe thead th {\n",
       "        text-align: right;\n",
       "    }\n",
       "</style>\n",
       "<table border=\"1\" class=\"dataframe\">\n",
       "  <thead>\n",
       "    <tr style=\"text-align: right;\">\n",
       "      <th></th>\n",
       "      <th>month</th>\n",
       "      <th>num_flights</th>\n",
       "    </tr>\n",
       "  </thead>\n",
       "  <tbody>\n",
       "    <tr>\n",
       "      <th>0</th>\n",
       "      <td>1</td>\n",
       "      <td>10272489</td>\n",
       "    </tr>\n",
       "    <tr>\n",
       "      <th>1</th>\n",
       "      <td>2</td>\n",
       "      <td>9431225</td>\n",
       "    </tr>\n",
       "    <tr>\n",
       "      <th>2</th>\n",
       "      <td>3</td>\n",
       "      <td>10448039</td>\n",
       "    </tr>\n",
       "    <tr>\n",
       "      <th>3</th>\n",
       "      <td>4</td>\n",
       "      <td>10081982</td>\n",
       "    </tr>\n",
       "    <tr>\n",
       "      <th>4</th>\n",
       "      <td>5</td>\n",
       "      <td>9724174</td>\n",
       "    </tr>\n",
       "    <tr>\n",
       "      <th>5</th>\n",
       "      <td>6</td>\n",
       "      <td>9618281</td>\n",
       "    </tr>\n",
       "    <tr>\n",
       "      <th>6</th>\n",
       "      <td>7</td>\n",
       "      <td>9944011</td>\n",
       "    </tr>\n",
       "    <tr>\n",
       "      <th>7</th>\n",
       "      <td>8</td>\n",
       "      <td>10034556</td>\n",
       "    </tr>\n",
       "    <tr>\n",
       "      <th>8</th>\n",
       "      <td>9</td>\n",
       "      <td>9435046</td>\n",
       "    </tr>\n",
       "    <tr>\n",
       "      <th>9</th>\n",
       "      <td>10</td>\n",
       "      <td>10202453</td>\n",
       "    </tr>\n",
       "    <tr>\n",
       "      <th>10</th>\n",
       "      <td>11</td>\n",
       "      <td>9694904</td>\n",
       "    </tr>\n",
       "    <tr>\n",
       "      <th>11</th>\n",
       "      <td>12</td>\n",
       "      <td>10027298</td>\n",
       "    </tr>\n",
       "  </tbody>\n",
       "</table>\n",
       "</div>"
      ],
      "text/plain": [
       "    month  num_flights\n",
       "0       1     10272489\n",
       "1       2      9431225\n",
       "2       3     10448039\n",
       "3       4     10081982\n",
       "4       5      9724174\n",
       "5       6      9618281\n",
       "6       7      9944011\n",
       "7       8     10034556\n",
       "8       9      9435046\n",
       "9      10     10202453\n",
       "10     11      9694904\n",
       "11     12     10027298"
      ]
     },
     "execution_count": 23,
     "metadata": {},
     "output_type": "execute_result"
    }
   ],
   "source": [
    "flights_monthly"
   ]
  },
  {
   "cell_type": "code",
   "execution_count": 24,
   "metadata": {},
   "outputs": [
    {
     "data": {
      "image/png": "[encoded data removed]",
      "text/plain": [
       "<Figure size 640x480 with 1 Axes>"
      ]
     },
     "metadata": {},
     "output_type": "display_data"
    }
   ],
   "source": [
    "plt.bar(flights_monthly.month, flights_monthly.num_flights)\n",
    "plt.title('Number of flights per month in the US (Oct 1987 - April 2008)')\n",
    "plt.xlabel('Months')\n",
    "plt.ylabel('Number of flights (millions)')\n",
    "plt.xticks(flights_monthly.month)\n",
    "plt.yticks([0.0, 2000000, 4000000, 6000000, 8000000, 10000000], ['0', '2M', '4M', '6M', '8M', '10M']);"
   ]
  },
  {
   "cell_type": "markdown",
   "metadata": {},
   "source": [
    "#### Weekly mumber of flights"
   ]
  },
  {
   "cell_type": "code",
   "execution_count": 25,
   "metadata": {},
   "outputs": [
    {
     "name": "stdout",
     "output_type": "stream",
     "text": [
      "Total Run Time: 1 minutes\n"
     ]
    }
   ],
   "source": [
    "query = \"\"\"\n",
    "    SELECT day_of_week week, COUNT(*) num_flights\n",
    "    FROM flights\n",
    "    GROUP BY day_of_week\"\"\"\n",
    "\n",
    "flights_weekly = query_to_df(query)"
   ]
  },
  {
   "cell_type": "code",
   "execution_count": 26,
   "metadata": {},
   "outputs": [
    {
     "data": {
      "text/html": [
       "<div>\n",
       "<style scoped>\n",
       "    .dataframe tbody tr th:only-of-type {\n",
       "        vertical-align: middle;\n",
       "    }\n",
       "\n",
       "    .dataframe tbody tr th {\n",
       "        vertical-align: top;\n",
       "    }\n",
       "\n",
       "    .dataframe thead th {\n",
       "        text-align: right;\n",
       "    }\n",
       "</style>\n",
       "<table border=\"1\" class=\"dataframe\">\n",
       "  <thead>\n",
       "    <tr style=\"text-align: right;\">\n",
       "      <th></th>\n",
       "      <th>week</th>\n",
       "      <th>num_flights</th>\n",
       "    </tr>\n",
       "  </thead>\n",
       "  <tbody>\n",
       "    <tr>\n",
       "      <th>0</th>\n",
       "      <td>1</td>\n",
       "      <td>17447894</td>\n",
       "    </tr>\n",
       "    <tr>\n",
       "      <th>1</th>\n",
       "      <td>2</td>\n",
       "      <td>17388831</td>\n",
       "    </tr>\n",
       "    <tr>\n",
       "      <th>2</th>\n",
       "      <td>3</td>\n",
       "      <td>17429117</td>\n",
       "    </tr>\n",
       "    <tr>\n",
       "      <th>3</th>\n",
       "      <td>4</td>\n",
       "      <td>17401407</td>\n",
       "    </tr>\n",
       "    <tr>\n",
       "      <th>4</th>\n",
       "      <td>5</td>\n",
       "      <td>17406738</td>\n",
       "    </tr>\n",
       "    <tr>\n",
       "      <th>5</th>\n",
       "      <td>6</td>\n",
       "      <td>15345943</td>\n",
       "    </tr>\n",
       "    <tr>\n",
       "      <th>6</th>\n",
       "      <td>7</td>\n",
       "      <td>16494528</td>\n",
       "    </tr>\n",
       "  </tbody>\n",
       "</table>\n",
       "</div>"
      ],
      "text/plain": [
       "   week  num_flights\n",
       "0     1     17447894\n",
       "1     2     17388831\n",
       "2     3     17429117\n",
       "3     4     17401407\n",
       "4     5     17406738\n",
       "5     6     15345943\n",
       "6     7     16494528"
      ]
     },
     "execution_count": 26,
     "metadata": {},
     "output_type": "execute_result"
    }
   ],
   "source": [
    "flights_weekly"
   ]
  },
  {
   "cell_type": "code",
   "execution_count": 27,
   "metadata": {},
   "outputs": [
    {
     "data": {
      "image/png": "[encoded data removed]",
      "text/plain": [
       "<Figure size 640x480 with 1 Axes>"
      ]
     },
     "metadata": {},
     "output_type": "display_data"
    }
   ],
   "source": [
    "plt.bar(flights_weekly.week, flights_weekly.num_flights)\n",
    "plt.title('Number of flights per week day in the US (Oct 1987 - April 2008)')\n",
    "plt.xlabel('Week Days', fontsize=10)\n",
    "plt.ylabel('Number of flights (millions)')\n",
    "plt.xticks(flights_weekly.week, ['Monday', 'Tuesday', 'Wednesday', 'Thursday', 'Friday', 'Saturday', 'Sunday']);\n",
    "plt.yticks([0.0, 2500000, 5000000, 7500000, 10000000, 12500000, 15000000, 17500000], ['0', '2.5M', '5.0M', '7.5M', '10.0M', '12.5M', '15.0M', '17.5M']);"
   ]
  },
  {
   "cell_type": "markdown",
   "metadata": {},
   "source": [
    "The number of flights every other weekday except Saturday and Sunday are almost the same, which is understandable because Saturday and Sunday are not work days."
   ]
  },
  {
   "cell_type": "markdown",
   "metadata": {},
   "source": [
    "#### Number of flight delays per year"
   ]
  },
  {
   "cell_type": "code",
   "execution_count": 28,
   "metadata": {},
   "outputs": [
    {
     "name": "stdout",
     "output_type": "stream",
     "text": [
      "Total Run Time: 1 minutes\n"
     ]
    }
   ],
   "source": [
    "query = \"\"\"\n",
    "    SELECT year, COUNT(*) num_flights\n",
    "    FROM flights\n",
    "    WHERE arr_delay IS NOT NULL and arr_delay >= 15\n",
    "    GROUP BY year\"\"\"\n",
    "\n",
    "yearly_flight_delay = query_to_df(query)"
   ]
  },
  {
   "cell_type": "code",
   "execution_count": 29,
   "metadata": {},
   "outputs": [
    {
     "data": {
      "text/html": [
       "<div>\n",
       "<style scoped>\n",
       "    .dataframe tbody tr th:only-of-type {\n",
       "        vertical-align: middle;\n",
       "    }\n",
       "\n",
       "    .dataframe tbody tr th {\n",
       "        vertical-align: top;\n",
       "    }\n",
       "\n",
       "    .dataframe thead th {\n",
       "        text-align: right;\n",
       "    }\n",
       "</style>\n",
       "<table border=\"1\" class=\"dataframe\">\n",
       "  <thead>\n",
       "    <tr style=\"text-align: right;\">\n",
       "      <th></th>\n",
       "      <th>year</th>\n",
       "      <th>num_flights</th>\n",
       "    </tr>\n",
       "  </thead>\n",
       "  <tbody>\n",
       "    <tr>\n",
       "      <th>0</th>\n",
       "      <td>1987</td>\n",
       "      <td>312770</td>\n",
       "    </tr>\n",
       "    <tr>\n",
       "      <th>1</th>\n",
       "      <td>1988</td>\n",
       "      <td>977853</td>\n",
       "    </tr>\n",
       "    <tr>\n",
       "      <th>2</th>\n",
       "      <td>1989</td>\n",
       "      <td>1119466</td>\n",
       "    </tr>\n",
       "    <tr>\n",
       "      <th>3</th>\n",
       "      <td>1990</td>\n",
       "      <td>1019363</td>\n",
       "    </tr>\n",
       "    <tr>\n",
       "      <th>4</th>\n",
       "      <td>1991</td>\n",
       "      <td>833978</td>\n",
       "    </tr>\n",
       "    <tr>\n",
       "      <th>5</th>\n",
       "      <td>1992</td>\n",
       "      <td>838347</td>\n",
       "    </tr>\n",
       "    <tr>\n",
       "      <th>6</th>\n",
       "      <td>1993</td>\n",
       "      <td>861259</td>\n",
       "    </tr>\n",
       "    <tr>\n",
       "      <th>7</th>\n",
       "      <td>1994</td>\n",
       "      <td>881408</td>\n",
       "    </tr>\n",
       "    <tr>\n",
       "      <th>8</th>\n",
       "      <td>1995</td>\n",
       "      <td>1039250</td>\n",
       "    </tr>\n",
       "    <tr>\n",
       "      <th>9</th>\n",
       "      <td>1996</td>\n",
       "      <td>1220045</td>\n",
       "    </tr>\n",
       "    <tr>\n",
       "      <th>10</th>\n",
       "      <td>1997</td>\n",
       "      <td>1083834</td>\n",
       "    </tr>\n",
       "    <tr>\n",
       "      <th>11</th>\n",
       "      <td>1998</td>\n",
       "      <td>1070071</td>\n",
       "    </tr>\n",
       "    <tr>\n",
       "      <th>12</th>\n",
       "      <td>1999</td>\n",
       "      <td>1152725</td>\n",
       "    </tr>\n",
       "    <tr>\n",
       "      <th>13</th>\n",
       "      <td>2000</td>\n",
       "      <td>1356040</td>\n",
       "    </tr>\n",
       "    <tr>\n",
       "      <th>14</th>\n",
       "      <td>2001</td>\n",
       "      <td>1104439</td>\n",
       "    </tr>\n",
       "    <tr>\n",
       "      <th>15</th>\n",
       "      <td>2002</td>\n",
       "      <td>868225</td>\n",
       "    </tr>\n",
       "    <tr>\n",
       "      <th>16</th>\n",
       "      <td>2003</td>\n",
       "      <td>1057804</td>\n",
       "    </tr>\n",
       "    <tr>\n",
       "      <th>17</th>\n",
       "      <td>2004</td>\n",
       "      <td>1421391</td>\n",
       "    </tr>\n",
       "    <tr>\n",
       "      <th>18</th>\n",
       "      <td>2005</td>\n",
       "      <td>1466065</td>\n",
       "    </tr>\n",
       "    <tr>\n",
       "      <th>19</th>\n",
       "      <td>2006</td>\n",
       "      <td>1615537</td>\n",
       "    </tr>\n",
       "    <tr>\n",
       "      <th>20</th>\n",
       "      <td>2007</td>\n",
       "      <td>1803320</td>\n",
       "    </tr>\n",
       "    <tr>\n",
       "      <th>21</th>\n",
       "      <td>2008</td>\n",
       "      <td>584583</td>\n",
       "    </tr>\n",
       "  </tbody>\n",
       "</table>\n",
       "</div>"
      ],
      "text/plain": [
       "    year  num_flights\n",
       "0   1987       312770\n",
       "1   1988       977853\n",
       "2   1989      1119466\n",
       "3   1990      1019363\n",
       "4   1991       833978\n",
       "5   1992       838347\n",
       "6   1993       861259\n",
       "7   1994       881408\n",
       "8   1995      1039250\n",
       "9   1996      1220045\n",
       "10  1997      1083834\n",
       "11  1998      1070071\n",
       "12  1999      1152725\n",
       "13  2000      1356040\n",
       "14  2001      1104439\n",
       "15  2002       868225\n",
       "16  2003      1057804\n",
       "17  2004      1421391\n",
       "18  2005      1466065\n",
       "19  2006      1615537\n",
       "20  2007      1803320\n",
       "21  2008       584583"
      ]
     },
     "execution_count": 29,
     "metadata": {},
     "output_type": "execute_result"
    }
   ],
   "source": [
    "yearly_flight_delay"
   ]
  },
  {
   "cell_type": "code",
   "execution_count": 30,
   "metadata": {},
   "outputs": [],
   "source": [
    "yearly_flight_delay = yearly_flight_delay.set_index('year')"
   ]
  },
  {
   "cell_type": "code",
   "execution_count": 31,
   "metadata": {},
   "outputs": [
    {
     "data": {
      "image/png": "[encoded data removed]",
      "text/plain": [
       "<Figure size 640x480 with 1 Axes>"
      ]
     },
     "metadata": {},
     "output_type": "display_data"
    }
   ],
   "source": [
    "plt.bar(yearly_flight_delay.index, yearly_flight_delay.num_flights)\n",
    "plt.title('Yearly Number of Flight Delays')\n",
    "plt.xlabel('Year')\n",
    "plt.ylabel('Flight delays')\n",
    "plt.xticks(yearly_flight_delay.index, rotation=90);\n",
    "plt.yticks([0.0, 250000, 500000, 750000, 1000000, 1250000, 1500000, 1750000], ['0', '250K', '500K', '750K', '1M', '1.25M', '1.50M', '1.75M']);"
   ]
  },
  {
   "cell_type": "code",
   "execution_count": 32,
   "metadata": {},
   "outputs": [
    {
     "name": "stdout",
     "output_type": "stream",
     "text": [
      "Total Run Time: 1 minutes\n"
     ]
    }
   ],
   "source": [
    "query = \"\"\"\n",
    "    SELECT year, AVG(arr_delay) avg_delay_mins\n",
    "    FROM flights\n",
    "    WHERE arr_delay IS NOT NULL and arr_delay >= 15\n",
    "    GROUP BY year\"\"\"\n",
    "\n",
    "yearly_avg_delay = query_to_df(query)"
   ]
  },
  {
   "cell_type": "code",
   "execution_count": 33,
   "metadata": {},
   "outputs": [
    {
     "data": {
      "text/html": [
       "<div>\n",
       "<style scoped>\n",
       "    .dataframe tbody tr th:only-of-type {\n",
       "        vertical-align: middle;\n",
       "    }\n",
       "\n",
       "    .dataframe tbody tr th {\n",
       "        vertical-align: top;\n",
       "    }\n",
       "\n",
       "    .dataframe thead th {\n",
       "        text-align: right;\n",
       "    }\n",
       "</style>\n",
       "<table border=\"1\" class=\"dataframe\">\n",
       "  <thead>\n",
       "    <tr style=\"text-align: right;\">\n",
       "      <th></th>\n",
       "      <th>year</th>\n",
       "      <th>avg_delay_mins</th>\n",
       "    </tr>\n",
       "  </thead>\n",
       "  <tbody>\n",
       "    <tr>\n",
       "      <th>0</th>\n",
       "      <td>1987</td>\n",
       "      <td>37.956083</td>\n",
       "    </tr>\n",
       "    <tr>\n",
       "      <th>1</th>\n",
       "      <td>1988</td>\n",
       "      <td>38.610970</td>\n",
       "    </tr>\n",
       "    <tr>\n",
       "      <th>2</th>\n",
       "      <td>1989</td>\n",
       "      <td>39.979209</td>\n",
       "    </tr>\n",
       "    <tr>\n",
       "      <th>3</th>\n",
       "      <td>1990</td>\n",
       "      <td>40.930581</td>\n",
       "    </tr>\n",
       "    <tr>\n",
       "      <th>4</th>\n",
       "      <td>1991</td>\n",
       "      <td>38.764437</td>\n",
       "    </tr>\n",
       "    <tr>\n",
       "      <th>5</th>\n",
       "      <td>1992</td>\n",
       "      <td>37.626841</td>\n",
       "    </tr>\n",
       "    <tr>\n",
       "      <th>6</th>\n",
       "      <td>1993</td>\n",
       "      <td>39.571245</td>\n",
       "    </tr>\n",
       "    <tr>\n",
       "      <th>7</th>\n",
       "      <td>1994</td>\n",
       "      <td>40.896091</td>\n",
       "    </tr>\n",
       "    <tr>\n",
       "      <th>8</th>\n",
       "      <td>1995</td>\n",
       "      <td>42.681277</td>\n",
       "    </tr>\n",
       "    <tr>\n",
       "      <th>9</th>\n",
       "      <td>1996</td>\n",
       "      <td>46.198831</td>\n",
       "    </tr>\n",
       "    <tr>\n",
       "      <th>10</th>\n",
       "      <td>1997</td>\n",
       "      <td>44.668865</td>\n",
       "    </tr>\n",
       "    <tr>\n",
       "      <th>11</th>\n",
       "      <td>1998</td>\n",
       "      <td>49.305647</td>\n",
       "    </tr>\n",
       "    <tr>\n",
       "      <th>12</th>\n",
       "      <td>1999</td>\n",
       "      <td>50.429547</td>\n",
       "    </tr>\n",
       "    <tr>\n",
       "      <th>13</th>\n",
       "      <td>2000</td>\n",
       "      <td>52.510742</td>\n",
       "    </tr>\n",
       "    <tr>\n",
       "      <th>14</th>\n",
       "      <td>2001</td>\n",
       "      <td>49.222473</td>\n",
       "    </tr>\n",
       "    <tr>\n",
       "      <th>15</th>\n",
       "      <td>2002</td>\n",
       "      <td>46.808912</td>\n",
       "    </tr>\n",
       "    <tr>\n",
       "      <th>16</th>\n",
       "      <td>2003</td>\n",
       "      <td>48.940628</td>\n",
       "    </tr>\n",
       "    <tr>\n",
       "      <th>17</th>\n",
       "      <td>2004</td>\n",
       "      <td>51.420281</td>\n",
       "    </tr>\n",
       "    <tr>\n",
       "      <th>18</th>\n",
       "      <td>2005</td>\n",
       "      <td>52.180851</td>\n",
       "    </tr>\n",
       "    <tr>\n",
       "      <th>19</th>\n",
       "      <td>2006</td>\n",
       "      <td>53.967838</td>\n",
       "    </tr>\n",
       "    <tr>\n",
       "      <th>20</th>\n",
       "      <td>2007</td>\n",
       "      <td>55.969366</td>\n",
       "    </tr>\n",
       "    <tr>\n",
       "      <th>21</th>\n",
       "      <td>2008</td>\n",
       "      <td>55.906831</td>\n",
       "    </tr>\n",
       "  </tbody>\n",
       "</table>\n",
       "</div>"
      ],
      "text/plain": [
       "    year  avg_delay_mins\n",
       "0   1987       37.956083\n",
       "1   1988       38.610970\n",
       "2   1989       39.979209\n",
       "3   1990       40.930581\n",
       "4   1991       38.764437\n",
       "5   1992       37.626841\n",
       "6   1993       39.571245\n",
       "7   1994       40.896091\n",
       "8   1995       42.681277\n",
       "9   1996       46.198831\n",
       "10  1997       44.668865\n",
       "11  1998       49.305647\n",
       "12  1999       50.429547\n",
       "13  2000       52.510742\n",
       "14  2001       49.222473\n",
       "15  2002       46.808912\n",
       "16  2003       48.940628\n",
       "17  2004       51.420281\n",
       "18  2005       52.180851\n",
       "19  2006       53.967838\n",
       "20  2007       55.969366\n",
       "21  2008       55.906831"
      ]
     },
     "execution_count": 33,
     "metadata": {},
     "output_type": "execute_result"
    }
   ],
   "source": [
    "yearly_avg_delay"
   ]
  },
  {
   "cell_type": "code",
   "execution_count": 34,
   "metadata": {},
   "outputs": [],
   "source": [
    "yearly_avg_delay = yearly_avg_delay.set_index('year')"
   ]
  },
  {
   "cell_type": "code",
   "execution_count": 35,
   "metadata": {},
   "outputs": [
    {
     "data": {
      "image/png": "[encoded data removed]",
      "text/plain": [
       "<Figure size 640x480 with 1 Axes>"
      ]
     },
     "metadata": {},
     "output_type": "display_data"
    }
   ],
   "source": [
    "plt.bar(yearly_avg_delay.index, yearly_avg_delay.avg_delay_mins)\n",
    "plt.title('Yearly Average Flight Delay in Minutes')\n",
    "plt.xlabel('Year')\n",
    "plt.ylabel('Flight delay (mins)')\n",
    "plt.xticks(yearly_avg_delay.index, rotation=90);"
   ]
  },
  {
   "cell_type": "markdown",
   "metadata": {},
   "source": [
    "Although, the 1987 and 2008 data does not cover the entire year, it appears the average delay in minutes has been increasing steadily.\n",
    "\n",
    "Next let's see if there are months with higher average delays in minutes."
   ]
  },
  {
   "cell_type": "markdown",
   "metadata": {},
   "source": [
    "#### Monthly average flight delays in minutes"
   ]
  },
  {
   "cell_type": "code",
   "execution_count": 36,
   "metadata": {},
   "outputs": [
    {
     "name": "stdout",
     "output_type": "stream",
     "text": [
      "Total Run Time: 1 minutes\n"
     ]
    }
   ],
   "source": [
    "query = \"\"\"\n",
    "    SELECT month, AVG(arr_delay) avg_delay_mins\n",
    "    FROM flights\n",
    "    WHERE arr_delay IS NOT NULL and arr_delay >= 15\n",
    "    GROUP BY month\"\"\"\n",
    "\n",
    "monthly_avg_delay = query_to_df(query)"
   ]
  },
  {
   "cell_type": "code",
   "execution_count": 37,
   "metadata": {},
   "outputs": [],
   "source": [
    "monthly_avg_delay = monthly_avg_delay.set_index('month')"
   ]
  },
  {
   "cell_type": "code",
   "execution_count": 38,
   "metadata": {},
   "outputs": [
    {
     "data": {
      "text/html": [
       "<div>\n",
       "<style scoped>\n",
       "    .dataframe tbody tr th:only-of-type {\n",
       "        vertical-align: middle;\n",
       "    }\n",
       "\n",
       "    .dataframe tbody tr th {\n",
       "        vertical-align: top;\n",
       "    }\n",
       "\n",
       "    .dataframe thead th {\n",
       "        text-align: right;\n",
       "    }\n",
       "</style>\n",
       "<table border=\"1\" class=\"dataframe\">\n",
       "  <thead>\n",
       "    <tr style=\"text-align: right;\">\n",
       "      <th></th>\n",
       "      <th>avg_delay_mins</th>\n",
       "    </tr>\n",
       "    <tr>\n",
       "      <th>month</th>\n",
       "      <th></th>\n",
       "    </tr>\n",
       "  </thead>\n",
       "  <tbody>\n",
       "    <tr>\n",
       "      <th>1</th>\n",
       "      <td>47.817883</td>\n",
       "    </tr>\n",
       "    <tr>\n",
       "      <th>2</th>\n",
       "      <td>47.019245</td>\n",
       "    </tr>\n",
       "    <tr>\n",
       "      <th>3</th>\n",
       "      <td>46.792182</td>\n",
       "    </tr>\n",
       "    <tr>\n",
       "      <th>4</th>\n",
       "      <td>45.720421</td>\n",
       "    </tr>\n",
       "    <tr>\n",
       "      <th>5</th>\n",
       "      <td>46.706697</td>\n",
       "    </tr>\n",
       "    <tr>\n",
       "      <th>6</th>\n",
       "      <td>51.043475</td>\n",
       "    </tr>\n",
       "    <tr>\n",
       "      <th>7</th>\n",
       "      <td>51.139322</td>\n",
       "    </tr>\n",
       "    <tr>\n",
       "      <th>8</th>\n",
       "      <td>48.481173</td>\n",
       "    </tr>\n",
       "    <tr>\n",
       "      <th>9</th>\n",
       "      <td>44.669885</td>\n",
       "    </tr>\n",
       "    <tr>\n",
       "      <th>10</th>\n",
       "      <td>43.201336</td>\n",
       "    </tr>\n",
       "    <tr>\n",
       "      <th>11</th>\n",
       "      <td>43.860356</td>\n",
       "    </tr>\n",
       "    <tr>\n",
       "      <th>12</th>\n",
       "      <td>47.746326</td>\n",
       "    </tr>\n",
       "  </tbody>\n",
       "</table>\n",
       "</div>"
      ],
      "text/plain": [
       "       avg_delay_mins\n",
       "month                \n",
       "1           47.817883\n",
       "2           47.019245\n",
       "3           46.792182\n",
       "4           45.720421\n",
       "5           46.706697\n",
       "6           51.043475\n",
       "7           51.139322\n",
       "8           48.481173\n",
       "9           44.669885\n",
       "10          43.201336\n",
       "11          43.860356\n",
       "12          47.746326"
      ]
     },
     "execution_count": 38,
     "metadata": {},
     "output_type": "execute_result"
    }
   ],
   "source": [
    "monthly_avg_delay"
   ]
  },
  {
   "cell_type": "code",
   "execution_count": 39,
   "metadata": {},
   "outputs": [
    {
     "data": {
      "image/png": "[encoded data removed]",
      "text/plain": [
       "<Figure size 640x480 with 1 Axes>"
      ]
     },
     "metadata": {},
     "output_type": "display_data"
    }
   ],
   "source": [
    "plt.bar(monthly_avg_delay.index, monthly_avg_delay.avg_delay_mins)\n",
    "plt.title('Monthly Average Flight Delay in Minutes')\n",
    "plt.xlabel('Month')\n",
    "plt.ylabel('Flight delay (mins)')\n",
    "plt.xticks(monthly_avg_delay.index);"
   ]
  },
  {
   "cell_type": "markdown",
   "metadata": {},
   "source": [
    "The flight delay in minutes appears to be higher around June and July.\n",
    "\n",
    "Next let's see the Average flight delay in minutes per day of week."
   ]
  },
  {
   "cell_type": "markdown",
   "metadata": {},
   "source": [
    "#### Day of week average flight delays in minutes"
   ]
  },
  {
   "cell_type": "code",
   "execution_count": 40,
   "metadata": {},
   "outputs": [
    {
     "name": "stdout",
     "output_type": "stream",
     "text": [
      "Total Run Time: 1 minutes\n"
     ]
    }
   ],
   "source": [
    "query = \"\"\"\n",
    "    SELECT day_of_week, AVG(arr_delay) avg_delay_mins\n",
    "    FROM flights\n",
    "    WHERE arr_delay IS NOT NULL and arr_delay >= 15\n",
    "    GROUP BY day_of_week\"\"\"\n",
    "\n",
    "weekly_avg_delay = query_to_df(query)"
   ]
  },
  {
   "cell_type": "code",
   "execution_count": 41,
   "metadata": {},
   "outputs": [],
   "source": [
    "weekly_avg_delay = weekly_avg_delay.set_index('day_of_week')"
   ]
  },
  {
   "cell_type": "code",
   "execution_count": 42,
   "metadata": {},
   "outputs": [
    {
     "data": {
      "text/html": [
       "<div>\n",
       "<style scoped>\n",
       "    .dataframe tbody tr th:only-of-type {\n",
       "        vertical-align: middle;\n",
       "    }\n",
       "\n",
       "    .dataframe tbody tr th {\n",
       "        vertical-align: top;\n",
       "    }\n",
       "\n",
       "    .dataframe thead th {\n",
       "        text-align: right;\n",
       "    }\n",
       "</style>\n",
       "<table border=\"1\" class=\"dataframe\">\n",
       "  <thead>\n",
       "    <tr style=\"text-align: right;\">\n",
       "      <th></th>\n",
       "      <th>avg_delay_mins</th>\n",
       "    </tr>\n",
       "    <tr>\n",
       "      <th>day_of_week</th>\n",
       "      <th></th>\n",
       "    </tr>\n",
       "  </thead>\n",
       "  <tbody>\n",
       "    <tr>\n",
       "      <th>1</th>\n",
       "      <td>47.512648</td>\n",
       "    </tr>\n",
       "    <tr>\n",
       "      <th>2</th>\n",
       "      <td>46.125341</td>\n",
       "    </tr>\n",
       "    <tr>\n",
       "      <th>3</th>\n",
       "      <td>46.921264</td>\n",
       "    </tr>\n",
       "    <tr>\n",
       "      <th>4</th>\n",
       "      <td>48.015256</td>\n",
       "    </tr>\n",
       "    <tr>\n",
       "      <th>5</th>\n",
       "      <td>48.533426</td>\n",
       "    </tr>\n",
       "    <tr>\n",
       "      <th>6</th>\n",
       "      <td>45.222279</td>\n",
       "    </tr>\n",
       "    <tr>\n",
       "      <th>7</th>\n",
       "      <td>47.289274</td>\n",
       "    </tr>\n",
       "  </tbody>\n",
       "</table>\n",
       "</div>"
      ],
      "text/plain": [
       "             avg_delay_mins\n",
       "day_of_week                \n",
       "1                 47.512648\n",
       "2                 46.125341\n",
       "3                 46.921264\n",
       "4                 48.015256\n",
       "5                 48.533426\n",
       "6                 45.222279\n",
       "7                 47.289274"
      ]
     },
     "execution_count": 42,
     "metadata": {},
     "output_type": "execute_result"
    }
   ],
   "source": [
    "weekly_avg_delay"
   ]
  },
  {
   "cell_type": "code",
   "execution_count": 43,
   "metadata": {},
   "outputs": [
    {
     "data": {
      "image/png": "[encoded data removed]",
      "text/plain": [
       "<Figure size 640x480 with 1 Axes>"
      ]
     },
     "metadata": {},
     "output_type": "display_data"
    }
   ],
   "source": [
    "plt.bar(weekly_avg_delay.index, weekly_avg_delay.avg_delay_mins)\n",
    "plt.title('Average Flight Delay in Minutes per Day of Week')\n",
    "plt.xlabel('Day of Week')\n",
    "plt.ylabel('Flight delay (mins)')\n",
    "plt.xticks(weekly_avg_delay.index);"
   ]
  },
  {
   "cell_type": "markdown",
   "metadata": {},
   "source": [
    "#### Number of Flights per Airline"
   ]
  },
  {
   "cell_type": "code",
   "execution_count": 44,
   "metadata": {},
   "outputs": [
    {
     "name": "stdout",
     "output_type": "stream",
     "text": [
      "Total Run Time: 1 minutes\n"
     ]
    }
   ],
   "source": [
    "query = \"\"\"\n",
    "    SELECT unique_carrier, \n",
    "        COUNT(*) num_flights \n",
    "    FROM flights \n",
    "    GROUP BY unique_carrier\n",
    "    ORDER BY num_flights DESC\"\"\"\n",
    "\n",
    "airlines = query_to_df(query)"
   ]
  },
  {
   "cell_type": "code",
   "execution_count": 45,
   "metadata": {},
   "outputs": [
    {
     "data": {
      "text/html": [
       "<div>\n",
       "<style scoped>\n",
       "    .dataframe tbody tr th:only-of-type {\n",
       "        vertical-align: middle;\n",
       "    }\n",
       "\n",
       "    .dataframe tbody tr th {\n",
       "        vertical-align: top;\n",
       "    }\n",
       "\n",
       "    .dataframe thead th {\n",
       "        text-align: right;\n",
       "    }\n",
       "</style>\n",
       "<table border=\"1\" class=\"dataframe\">\n",
       "  <thead>\n",
       "    <tr style=\"text-align: right;\">\n",
       "      <th></th>\n",
       "      <th>unique_carrier</th>\n",
       "      <th>num_flights</th>\n",
       "    </tr>\n",
       "  </thead>\n",
       "  <tbody>\n",
       "    <tr>\n",
       "      <th>0</th>\n",
       "      <td>DL</td>\n",
       "      <td>16247348</td>\n",
       "    </tr>\n",
       "    <tr>\n",
       "      <th>1</th>\n",
       "      <td>WN</td>\n",
       "      <td>15173234</td>\n",
       "    </tr>\n",
       "    <tr>\n",
       "      <th>2</th>\n",
       "      <td>AA</td>\n",
       "      <td>14584281</td>\n",
       "    </tr>\n",
       "    <tr>\n",
       "      <th>3</th>\n",
       "      <td>US</td>\n",
       "      <td>13775480</td>\n",
       "    </tr>\n",
       "    <tr>\n",
       "      <th>4</th>\n",
       "      <td>UA</td>\n",
       "      <td>13004338</td>\n",
       "    </tr>\n",
       "  </tbody>\n",
       "</table>\n",
       "</div>"
      ],
      "text/plain": [
       "  unique_carrier  num_flights\n",
       "0             DL     16247348\n",
       "1             WN     15173234\n",
       "2             AA     14584281\n",
       "3             US     13775480\n",
       "4             UA     13004338"
      ]
     },
     "execution_count": 45,
     "metadata": {},
     "output_type": "execute_result"
    }
   ],
   "source": [
    "airlines.head()"
   ]
  },
  {
   "cell_type": "code",
   "execution_count": 46,
   "metadata": {},
   "outputs": [
    {
     "name": "stdout",
     "output_type": "stream",
     "text": [
      "<class 'pandas.core.frame.DataFrame'>\n",
      "RangeIndex: 29 entries, 0 to 28\n",
      "Data columns (total 2 columns):\n",
      " #   Column          Non-Null Count  Dtype \n",
      "---  ------          --------------  ----- \n",
      " 0   unique_carrier  29 non-null     object\n",
      " 1   num_flights     29 non-null     int64 \n",
      "dtypes: int64(1), object(1)\n",
      "memory usage: 592.0+ bytes\n"
     ]
    }
   ],
   "source": [
    "airlines.info()"
   ]
  },
  {
   "cell_type": "code",
   "execution_count": 47,
   "metadata": {},
   "outputs": [
    {
     "data": {
      "image/png": "[encoded data removed]",
      "text/plain": [
       "<Figure size 640x480 with 1 Axes>"
      ]
     },
     "metadata": {},
     "output_type": "display_data"
    }
   ],
   "source": [
    "plt.bar(airlines.unique_carrier, airlines.num_flights)\n",
    "plt.title('Number of Flights per Airline')\n",
    "plt.xlabel('Airlines')\n",
    "plt.ylabel('Number of Flights')\n",
    "plt.xticks(airlines.unique_carrier, rotation=90)\n",
    "plt.yticks([0.0, 2000000, 4000000, 6000000, 8000000, 10000000, 12000000, 14000000, 16000000], ['0.0', '2M', '4M', '6M', '8M', '10M', '12M', '14M', '16M']);"
   ]
  },
  {
   "cell_type": "code",
   "execution_count": 48,
   "metadata": {},
   "outputs": [
    {
     "data": {
      "text/plain": [
       "array(['DL', 'WN', 'AA', 'US', 'UA'], dtype=object)"
      ]
     },
     "execution_count": 48,
     "metadata": {},
     "output_type": "execute_result"
    }
   ],
   "source": [
    "busiest_airlines = airlines.head(5)\n",
    "busiest_airlines.unique_carrier.values"
   ]
  },
  {
   "cell_type": "code",
   "execution_count": 49,
   "metadata": {},
   "outputs": [
    {
     "name": "stdout",
     "output_type": "stream",
     "text": [
      "Total Run Time: 0 minutes\n"
     ]
    }
   ],
   "source": [
    "query = \"\"\"\n",
    "    SELECT * \n",
    "    FROM carriers \n",
    "    WHERE code in ('DL', 'WN', 'AA', 'US', 'UA')\"\"\"\n",
    "\n",
    "airline_names = query_to_df(query)"
   ]
  },
  {
   "cell_type": "code",
   "execution_count": 50,
   "metadata": {},
   "outputs": [
    {
     "data": {
      "text/html": [
       "<div>\n",
       "<style scoped>\n",
       "    .dataframe tbody tr th:only-of-type {\n",
       "        vertical-align: middle;\n",
       "    }\n",
       "\n",
       "    .dataframe tbody tr th {\n",
       "        vertical-align: top;\n",
       "    }\n",
       "\n",
       "    .dataframe thead th {\n",
       "        text-align: right;\n",
       "    }\n",
       "</style>\n",
       "<table border=\"1\" class=\"dataframe\">\n",
       "  <thead>\n",
       "    <tr style=\"text-align: right;\">\n",
       "      <th></th>\n",
       "      <th>id</th>\n",
       "      <th>code</th>\n",
       "      <th>description</th>\n",
       "    </tr>\n",
       "  </thead>\n",
       "  <tbody>\n",
       "    <tr>\n",
       "      <th>0</th>\n",
       "      <td>101</td>\n",
       "      <td>AA</td>\n",
       "      <td>American Airlines Inc.</td>\n",
       "    </tr>\n",
       "    <tr>\n",
       "      <th>1</th>\n",
       "      <td>442</td>\n",
       "      <td>DL</td>\n",
       "      <td>Delta Air Lines Inc.</td>\n",
       "    </tr>\n",
       "    <tr>\n",
       "      <th>2</th>\n",
       "      <td>1298</td>\n",
       "      <td>UA</td>\n",
       "      <td>United Air Lines Inc.</td>\n",
       "    </tr>\n",
       "    <tr>\n",
       "      <th>3</th>\n",
       "      <td>1309</td>\n",
       "      <td>US</td>\n",
       "      <td>US Airways Inc. (Merged with America West 9/05...</td>\n",
       "    </tr>\n",
       "    <tr>\n",
       "      <th>4</th>\n",
       "      <td>1389</td>\n",
       "      <td>WN</td>\n",
       "      <td>Southwest Airlines Co.</td>\n",
       "    </tr>\n",
       "  </tbody>\n",
       "</table>\n",
       "</div>"
      ],
      "text/plain": [
       "     id code                                        description\n",
       "0   101   AA                             American Airlines Inc.\n",
       "1   442   DL                               Delta Air Lines Inc.\n",
       "2  1298   UA                              United Air Lines Inc.\n",
       "3  1309   US  US Airways Inc. (Merged with America West 9/05...\n",
       "4  1389   WN                             Southwest Airlines Co."
      ]
     },
     "execution_count": 50,
     "metadata": {},
     "output_type": "execute_result"
    }
   ],
   "source": [
    "airline_names"
   ]
  },
  {
   "cell_type": "markdown",
   "metadata": {},
   "source": [
    "Delta Air Lines, Southwest Airlines, Ammerican Airlines, US Airways and United Air Lines are the busiest airlines.\n",
    "\n",
    "Next we will look at the worst airlines"
   ]
  },
  {
   "cell_type": "markdown",
   "metadata": {},
   "source": [
    "#### What is the Worst Airlines"
   ]
  },
  {
   "cell_type": "code",
   "execution_count": 51,
   "metadata": {},
   "outputs": [
    {
     "name": "stdout",
     "output_type": "stream",
     "text": [
      "Total Run Time: 1 minutes\n"
     ]
    }
   ],
   "source": [
    "query = \"\"\"\n",
    "    SELECT unique_carrier, \n",
    "        COUNT(*) num_delayed_flights, \n",
    "        ROUND(AVG(arr_delay), 2) avg_delay_mins\n",
    "    FROM flights\n",
    "    WHERE arr_delay >= 15\n",
    "    GROUP BY unique_carrier\"\"\"\n",
    "\n",
    "worst_airlines = query_to_df(query)"
   ]
  },
  {
   "cell_type": "code",
   "execution_count": 52,
   "metadata": {},
   "outputs": [
    {
     "data": {
      "text/html": [
       "<div>\n",
       "<style scoped>\n",
       "    .dataframe tbody tr th:only-of-type {\n",
       "        vertical-align: middle;\n",
       "    }\n",
       "\n",
       "    .dataframe tbody tr th {\n",
       "        vertical-align: top;\n",
       "    }\n",
       "\n",
       "    .dataframe thead th {\n",
       "        text-align: right;\n",
       "    }\n",
       "</style>\n",
       "<table border=\"1\" class=\"dataframe\">\n",
       "  <thead>\n",
       "    <tr style=\"text-align: right;\">\n",
       "      <th></th>\n",
       "      <th>unique_carrier</th>\n",
       "      <th>num_delayed_flights</th>\n",
       "      <th>avg_delay_mins</th>\n",
       "    </tr>\n",
       "  </thead>\n",
       "  <tbody>\n",
       "    <tr>\n",
       "      <th>0</th>\n",
       "      <td>9E</td>\n",
       "      <td>73756</td>\n",
       "      <td>59.33</td>\n",
       "    </tr>\n",
       "    <tr>\n",
       "      <th>1</th>\n",
       "      <td>AA</td>\n",
       "      <td>2857582</td>\n",
       "      <td>50.55</td>\n",
       "    </tr>\n",
       "    <tr>\n",
       "      <th>2</th>\n",
       "      <td>AQ</td>\n",
       "      <td>14274</td>\n",
       "      <td>37.37</td>\n",
       "    </tr>\n",
       "    <tr>\n",
       "      <th>3</th>\n",
       "      <td>AS</td>\n",
       "      <td>613429</td>\n",
       "      <td>43.31</td>\n",
       "    </tr>\n",
       "    <tr>\n",
       "      <th>4</th>\n",
       "      <td>B6</td>\n",
       "      <td>166894</td>\n",
       "      <td>59.06</td>\n",
       "    </tr>\n",
       "  </tbody>\n",
       "</table>\n",
       "</div>"
      ],
      "text/plain": [
       "  unique_carrier  num_delayed_flights  avg_delay_mins\n",
       "0             9E                73756           59.33\n",
       "1             AA              2857582           50.55\n",
       "2             AQ                14274           37.37\n",
       "3             AS               613429           43.31\n",
       "4             B6               166894           59.06"
      ]
     },
     "execution_count": 52,
     "metadata": {},
     "output_type": "execute_result"
    }
   ],
   "source": [
    "worst_airlines.head()"
   ]
  },
  {
   "cell_type": "code",
   "execution_count": 53,
   "metadata": {},
   "outputs": [],
   "source": [
    "# To compute the percentage of delayed flights for each airline we will merge the airline dataframe with the worst airlines dataframe\n",
    "worst_airlines = worst_airlines.merge(airlines)"
   ]
  },
  {
   "cell_type": "code",
   "execution_count": 54,
   "metadata": {},
   "outputs": [
    {
     "data": {
      "text/html": [
       "<div>\n",
       "<style scoped>\n",
       "    .dataframe tbody tr th:only-of-type {\n",
       "        vertical-align: middle;\n",
       "    }\n",
       "\n",
       "    .dataframe tbody tr th {\n",
       "        vertical-align: top;\n",
       "    }\n",
       "\n",
       "    .dataframe thead th {\n",
       "        text-align: right;\n",
       "    }\n",
       "</style>\n",
       "<table border=\"1\" class=\"dataframe\">\n",
       "  <thead>\n",
       "    <tr style=\"text-align: right;\">\n",
       "      <th></th>\n",
       "      <th>unique_carrier</th>\n",
       "      <th>num_delayed_flights</th>\n",
       "      <th>avg_delay_mins</th>\n",
       "      <th>num_flights</th>\n",
       "    </tr>\n",
       "  </thead>\n",
       "  <tbody>\n",
       "    <tr>\n",
       "      <th>0</th>\n",
       "      <td>9E</td>\n",
       "      <td>73756</td>\n",
       "      <td>59.33</td>\n",
       "      <td>347210</td>\n",
       "    </tr>\n",
       "    <tr>\n",
       "      <th>1</th>\n",
       "      <td>AA</td>\n",
       "      <td>2857582</td>\n",
       "      <td>50.55</td>\n",
       "      <td>14584281</td>\n",
       "    </tr>\n",
       "    <tr>\n",
       "      <th>2</th>\n",
       "      <td>AQ</td>\n",
       "      <td>14274</td>\n",
       "      <td>37.37</td>\n",
       "      <td>154381</td>\n",
       "    </tr>\n",
       "    <tr>\n",
       "      <th>3</th>\n",
       "      <td>AS</td>\n",
       "      <td>613429</td>\n",
       "      <td>43.31</td>\n",
       "      <td>2776804</td>\n",
       "    </tr>\n",
       "    <tr>\n",
       "      <th>4</th>\n",
       "      <td>B6</td>\n",
       "      <td>166894</td>\n",
       "      <td>59.06</td>\n",
       "      <td>682728</td>\n",
       "    </tr>\n",
       "  </tbody>\n",
       "</table>\n",
       "</div>"
      ],
      "text/plain": [
       "  unique_carrier  num_delayed_flights  avg_delay_mins  num_flights\n",
       "0             9E                73756           59.33       347210\n",
       "1             AA              2857582           50.55     14584281\n",
       "2             AQ                14274           37.37       154381\n",
       "3             AS               613429           43.31      2776804\n",
       "4             B6               166894           59.06       682728"
      ]
     },
     "execution_count": 54,
     "metadata": {},
     "output_type": "execute_result"
    }
   ],
   "source": [
    "worst_airlines.head()"
   ]
  },
  {
   "cell_type": "code",
   "execution_count": 55,
   "metadata": {},
   "outputs": [],
   "source": [
    "worst_airlines['percentage_delay'] = worst_airlines.num_delayed_flights / worst_airlines.num_flights * 100"
   ]
  },
  {
   "cell_type": "code",
   "execution_count": 56,
   "metadata": {},
   "outputs": [
    {
     "data": {
      "text/html": [
       "<div>\n",
       "<style scoped>\n",
       "    .dataframe tbody tr th:only-of-type {\n",
       "        vertical-align: middle;\n",
       "    }\n",
       "\n",
       "    .dataframe tbody tr th {\n",
       "        vertical-align: top;\n",
       "    }\n",
       "\n",
       "    .dataframe thead th {\n",
       "        text-align: right;\n",
       "    }\n",
       "</style>\n",
       "<table border=\"1\" class=\"dataframe\">\n",
       "  <thead>\n",
       "    <tr style=\"text-align: right;\">\n",
       "      <th></th>\n",
       "      <th>unique_carrier</th>\n",
       "      <th>num_delayed_flights</th>\n",
       "      <th>avg_delay_mins</th>\n",
       "      <th>num_flights</th>\n",
       "      <th>percentage_delay</th>\n",
       "    </tr>\n",
       "  </thead>\n",
       "  <tbody>\n",
       "    <tr>\n",
       "      <th>0</th>\n",
       "      <td>9E</td>\n",
       "      <td>73756</td>\n",
       "      <td>59.33</td>\n",
       "      <td>347210</td>\n",
       "      <td>21.242476</td>\n",
       "    </tr>\n",
       "    <tr>\n",
       "      <th>1</th>\n",
       "      <td>AA</td>\n",
       "      <td>2857582</td>\n",
       "      <td>50.55</td>\n",
       "      <td>14584281</td>\n",
       "      <td>19.593575</td>\n",
       "    </tr>\n",
       "    <tr>\n",
       "      <th>2</th>\n",
       "      <td>AQ</td>\n",
       "      <td>14274</td>\n",
       "      <td>37.37</td>\n",
       "      <td>154381</td>\n",
       "      <td>9.245956</td>\n",
       "    </tr>\n",
       "    <tr>\n",
       "      <th>3</th>\n",
       "      <td>AS</td>\n",
       "      <td>613429</td>\n",
       "      <td>43.31</td>\n",
       "      <td>2776804</td>\n",
       "      <td>22.091188</td>\n",
       "    </tr>\n",
       "    <tr>\n",
       "      <th>4</th>\n",
       "      <td>B6</td>\n",
       "      <td>166894</td>\n",
       "      <td>59.06</td>\n",
       "      <td>682728</td>\n",
       "      <td>24.445167</td>\n",
       "    </tr>\n",
       "  </tbody>\n",
       "</table>\n",
       "</div>"
      ],
      "text/plain": [
       "  unique_carrier  num_delayed_flights  avg_delay_mins  num_flights  \\\n",
       "0             9E                73756           59.33       347210   \n",
       "1             AA              2857582           50.55     14584281   \n",
       "2             AQ                14274           37.37       154381   \n",
       "3             AS               613429           43.31      2776804   \n",
       "4             B6               166894           59.06       682728   \n",
       "\n",
       "   percentage_delay  \n",
       "0         21.242476  \n",
       "1         19.593575  \n",
       "2          9.245956  \n",
       "3         22.091188  \n",
       "4         24.445167  "
      ]
     },
     "execution_count": 56,
     "metadata": {},
     "output_type": "execute_result"
    }
   ],
   "source": [
    "worst_airlines.head()"
   ]
  },
  {
   "cell_type": "code",
   "execution_count": 57,
   "metadata": {},
   "outputs": [],
   "source": [
    "worst_airlines = worst_airlines.sort_values(by='percentage_delay', ascending=False)"
   ]
  },
  {
   "cell_type": "code",
   "execution_count": 58,
   "metadata": {},
   "outputs": [
    {
     "data": {
      "image/png": "[encoded data removed]",
      "text/plain": [
       "<Figure size 640x480 with 1 Axes>"
      ]
     },
     "metadata": {},
     "output_type": "display_data"
    }
   ],
   "source": [
    "plt.bar(worst_airlines.unique_carrier, worst_airlines.percentage_delay)\n",
    "plt.title('Percentage of Delayed Flights per Airline')\n",
    "plt.xlabel('Airlines')\n",
    "plt.ylabel('Percentage of Flights (%)')\n",
    "plt.xticks(worst_airlines.unique_carrier, rotation=90);"
   ]
  },
  {
   "cell_type": "markdown",
   "metadata": {},
   "source": [
    "There is 1/4 chance that your flights will be delayed Atlantic Southeast Airlines (EV)."
   ]
  },
  {
   "cell_type": "markdown",
   "metadata": {},
   "source": [
    "#### Number of Flights Per Airport"
   ]
  },
  {
   "cell_type": "code",
   "execution_count": 59,
   "metadata": {},
   "outputs": [
    {
     "name": "stdout",
     "output_type": "stream",
     "text": [
      "Total Run Time: 1 minutes\n"
     ]
    }
   ],
   "source": [
    "query = \"\"\"\n",
    "    SELECT origin, \n",
    "        COUNT(*) num_flights \n",
    "    FROM flights \n",
    "    GROUP BY origin\n",
    "    ORDER BY num_flights DESC\"\"\"\n",
    "\n",
    "airports = query_to_df(query)"
   ]
  },
  {
   "cell_type": "code",
   "execution_count": 60,
   "metadata": {},
   "outputs": [
    {
     "data": {
      "text/html": [
       "<div>\n",
       "<style scoped>\n",
       "    .dataframe tbody tr th:only-of-type {\n",
       "        vertical-align: middle;\n",
       "    }\n",
       "\n",
       "    .dataframe tbody tr th {\n",
       "        vertical-align: top;\n",
       "    }\n",
       "\n",
       "    .dataframe thead th {\n",
       "        text-align: right;\n",
       "    }\n",
       "</style>\n",
       "<table border=\"1\" class=\"dataframe\">\n",
       "  <thead>\n",
       "    <tr style=\"text-align: right;\">\n",
       "      <th></th>\n",
       "      <th>origin</th>\n",
       "      <th>num_flights</th>\n",
       "    </tr>\n",
       "  </thead>\n",
       "  <tbody>\n",
       "    <tr>\n",
       "      <th>0</th>\n",
       "      <td>ORD</td>\n",
       "      <td>6365070</td>\n",
       "    </tr>\n",
       "    <tr>\n",
       "      <th>1</th>\n",
       "      <td>ATL</td>\n",
       "      <td>5823454</td>\n",
       "    </tr>\n",
       "    <tr>\n",
       "      <th>2</th>\n",
       "      <td>DFW</td>\n",
       "      <td>5522740</td>\n",
       "    </tr>\n",
       "    <tr>\n",
       "      <th>3</th>\n",
       "      <td>LAX</td>\n",
       "      <td>3946884</td>\n",
       "    </tr>\n",
       "    <tr>\n",
       "      <th>4</th>\n",
       "      <td>PHX</td>\n",
       "      <td>3361073</td>\n",
       "    </tr>\n",
       "  </tbody>\n",
       "</table>\n",
       "</div>"
      ],
      "text/plain": [
       "  origin  num_flights\n",
       "0    ORD      6365070\n",
       "1    ATL      5823454\n",
       "2    DFW      5522740\n",
       "3    LAX      3946884\n",
       "4    PHX      3361073"
      ]
     },
     "execution_count": 60,
     "metadata": {},
     "output_type": "execute_result"
    }
   ],
   "source": [
    "airports.head()"
   ]
  },
  {
   "cell_type": "code",
   "execution_count": 61,
   "metadata": {},
   "outputs": [
    {
     "name": "stdout",
     "output_type": "stream",
     "text": [
      "<class 'pandas.core.frame.DataFrame'>\n",
      "RangeIndex: 346 entries, 0 to 345\n",
      "Data columns (total 2 columns):\n",
      " #   Column       Non-Null Count  Dtype \n",
      "---  ------       --------------  ----- \n",
      " 0   origin       346 non-null    object\n",
      " 1   num_flights  346 non-null    int64 \n",
      "dtypes: int64(1), object(1)\n",
      "memory usage: 5.5+ KB\n"
     ]
    }
   ],
   "source": [
    "airports.info()"
   ]
  },
  {
   "cell_type": "code",
   "execution_count": 62,
   "metadata": {},
   "outputs": [
    {
     "data": {
      "text/html": [
       "<div>\n",
       "<style scoped>\n",
       "    .dataframe tbody tr th:only-of-type {\n",
       "        vertical-align: middle;\n",
       "    }\n",
       "\n",
       "    .dataframe tbody tr th {\n",
       "        vertical-align: top;\n",
       "    }\n",
       "\n",
       "    .dataframe thead th {\n",
       "        text-align: right;\n",
       "    }\n",
       "</style>\n",
       "<table border=\"1\" class=\"dataframe\">\n",
       "  <thead>\n",
       "    <tr style=\"text-align: right;\">\n",
       "      <th></th>\n",
       "      <th>num_flights</th>\n",
       "    </tr>\n",
       "  </thead>\n",
       "  <tbody>\n",
       "    <tr>\n",
       "      <th>count</th>\n",
       "      <td>3.460000e+02</td>\n",
       "    </tr>\n",
       "    <tr>\n",
       "      <th>mean</th>\n",
       "      <td>3.436834e+05</td>\n",
       "    </tr>\n",
       "    <tr>\n",
       "      <th>std</th>\n",
       "      <td>8.191089e+05</td>\n",
       "    </tr>\n",
       "    <tr>\n",
       "      <th>min</th>\n",
       "      <td>1.000000e+00</td>\n",
       "    </tr>\n",
       "    <tr>\n",
       "      <th>25%</th>\n",
       "      <td>7.359750e+03</td>\n",
       "    </tr>\n",
       "    <tr>\n",
       "      <th>50%</th>\n",
       "      <td>3.466000e+04</td>\n",
       "    </tr>\n",
       "    <tr>\n",
       "      <th>75%</th>\n",
       "      <td>1.880608e+05</td>\n",
       "    </tr>\n",
       "    <tr>\n",
       "      <th>max</th>\n",
       "      <td>6.365070e+06</td>\n",
       "    </tr>\n",
       "  </tbody>\n",
       "</table>\n",
       "</div>"
      ],
      "text/plain": [
       "        num_flights\n",
       "count  3.460000e+02\n",
       "mean   3.436834e+05\n",
       "std    8.191089e+05\n",
       "min    1.000000e+00\n",
       "25%    7.359750e+03\n",
       "50%    3.466000e+04\n",
       "75%    1.880608e+05\n",
       "max    6.365070e+06"
      ]
     },
     "execution_count": 62,
     "metadata": {},
     "output_type": "execute_result"
    }
   ],
   "source": [
    "airports.describe()"
   ]
  },
  {
   "cell_type": "code",
   "execution_count": 63,
   "metadata": {},
   "outputs": [],
   "source": [
    "top_10_airports = airports.head(10)"
   ]
  },
  {
   "cell_type": "code",
   "execution_count": 64,
   "metadata": {},
   "outputs": [
    {
     "data": {
      "image/png": "[encoded data removed]",
      "text/plain": [
       "<Figure size 640x480 with 1 Axes>"
      ]
     },
     "metadata": {},
     "output_type": "display_data"
    }
   ],
   "source": [
    "plt.bar(top_10_airports.origin, top_10_airports.num_flights)\n",
    "plt.title('Busiest Airports (Top 10)')\n",
    "plt.xlabel('Airports')\n",
    "plt.ylabel('Number of Flights (millions)');"
   ]
  },
  {
   "cell_type": "markdown",
   "metadata": {},
   "source": [
    "**Observation**: The above graph shows that ORD, ATL DFW, LAX and PHX are the busiest airport in the US.\n",
    "\n",
    "Next let's see the airport with highest proportion of flight delays."
   ]
  },
  {
   "cell_type": "markdown",
   "metadata": {},
   "source": [
    "#### What is the Wosrt Airport"
   ]
  },
  {
   "cell_type": "code",
   "execution_count": 65,
   "metadata": {},
   "outputs": [
    {
     "name": "stdout",
     "output_type": "stream",
     "text": [
      "Total Run Time: 1 minutes\n"
     ]
    }
   ],
   "source": [
    "query = \"\"\"\n",
    "    SELECT origin, \n",
    "        COUNT(*) num_delayed_flights, \n",
    "        ROUND(AVG(dep_delay), 2) avg_delay_mins\n",
    "    FROM flights\n",
    "    WHERE dep_delay >= 15\n",
    "    GROUP BY origin\"\"\"\n",
    "\n",
    "worst_airports = query_to_df(query)"
   ]
  },
  {
   "cell_type": "code",
   "execution_count": 66,
   "metadata": {},
   "outputs": [
    {
     "data": {
      "text/html": [
       "<div>\n",
       "<style scoped>\n",
       "    .dataframe tbody tr th:only-of-type {\n",
       "        vertical-align: middle;\n",
       "    }\n",
       "\n",
       "    .dataframe tbody tr th {\n",
       "        vertical-align: top;\n",
       "    }\n",
       "\n",
       "    .dataframe thead th {\n",
       "        text-align: right;\n",
       "    }\n",
       "</style>\n",
       "<table border=\"1\" class=\"dataframe\">\n",
       "  <thead>\n",
       "    <tr style=\"text-align: right;\">\n",
       "      <th></th>\n",
       "      <th>origin</th>\n",
       "      <th>num_delayed_flights</th>\n",
       "      <th>avg_delay_mins</th>\n",
       "    </tr>\n",
       "  </thead>\n",
       "  <tbody>\n",
       "    <tr>\n",
       "      <th>0</th>\n",
       "      <td>ABE</td>\n",
       "      <td>13332</td>\n",
       "      <td>82.11</td>\n",
       "    </tr>\n",
       "    <tr>\n",
       "      <th>1</th>\n",
       "      <td>ABI</td>\n",
       "      <td>1946</td>\n",
       "      <td>68.16</td>\n",
       "    </tr>\n",
       "    <tr>\n",
       "      <th>2</th>\n",
       "      <td>ABQ</td>\n",
       "      <td>106314</td>\n",
       "      <td>43.36</td>\n",
       "    </tr>\n",
       "    <tr>\n",
       "      <th>3</th>\n",
       "      <td>ABY</td>\n",
       "      <td>1358</td>\n",
       "      <td>55.38</td>\n",
       "    </tr>\n",
       "    <tr>\n",
       "      <th>4</th>\n",
       "      <td>ACK</td>\n",
       "      <td>409</td>\n",
       "      <td>84.14</td>\n",
       "    </tr>\n",
       "  </tbody>\n",
       "</table>\n",
       "</div>"
      ],
      "text/plain": [
       "  origin  num_delayed_flights  avg_delay_mins\n",
       "0    ABE                13332           82.11\n",
       "1    ABI                 1946           68.16\n",
       "2    ABQ               106314           43.36\n",
       "3    ABY                 1358           55.38\n",
       "4    ACK                  409           84.14"
      ]
     },
     "execution_count": 66,
     "metadata": {},
     "output_type": "execute_result"
    }
   ],
   "source": [
    "worst_airports.head()"
   ]
  },
  {
   "cell_type": "code",
   "execution_count": 67,
   "metadata": {},
   "outputs": [],
   "source": [
    "# To compute the percentage of delayed flights for each airport we will merge the airport dataframe with the worst airport dataframe\n",
    "worst_airports = worst_airports.merge(airports)"
   ]
  },
  {
   "cell_type": "code",
   "execution_count": 68,
   "metadata": {},
   "outputs": [
    {
     "data": {
      "text/html": [
       "<div>\n",
       "<style scoped>\n",
       "    .dataframe tbody tr th:only-of-type {\n",
       "        vertical-align: middle;\n",
       "    }\n",
       "\n",
       "    .dataframe tbody tr th {\n",
       "        vertical-align: top;\n",
       "    }\n",
       "\n",
       "    .dataframe thead th {\n",
       "        text-align: right;\n",
       "    }\n",
       "</style>\n",
       "<table border=\"1\" class=\"dataframe\">\n",
       "  <thead>\n",
       "    <tr style=\"text-align: right;\">\n",
       "      <th></th>\n",
       "      <th>origin</th>\n",
       "      <th>num_delayed_flights</th>\n",
       "      <th>avg_delay_mins</th>\n",
       "      <th>num_flights</th>\n",
       "    </tr>\n",
       "  </thead>\n",
       "  <tbody>\n",
       "    <tr>\n",
       "      <th>0</th>\n",
       "      <td>ABE</td>\n",
       "      <td>13332</td>\n",
       "      <td>82.11</td>\n",
       "      <td>119778</td>\n",
       "    </tr>\n",
       "    <tr>\n",
       "      <th>1</th>\n",
       "      <td>ABI</td>\n",
       "      <td>1946</td>\n",
       "      <td>68.16</td>\n",
       "      <td>19935</td>\n",
       "    </tr>\n",
       "    <tr>\n",
       "      <th>2</th>\n",
       "      <td>ABQ</td>\n",
       "      <td>106314</td>\n",
       "      <td>43.36</td>\n",
       "      <td>732747</td>\n",
       "    </tr>\n",
       "    <tr>\n",
       "      <th>3</th>\n",
       "      <td>ABY</td>\n",
       "      <td>1358</td>\n",
       "      <td>55.38</td>\n",
       "      <td>7358</td>\n",
       "    </tr>\n",
       "    <tr>\n",
       "      <th>4</th>\n",
       "      <td>ACK</td>\n",
       "      <td>409</td>\n",
       "      <td>84.14</td>\n",
       "      <td>1355</td>\n",
       "    </tr>\n",
       "  </tbody>\n",
       "</table>\n",
       "</div>"
      ],
      "text/plain": [
       "  origin  num_delayed_flights  avg_delay_mins  num_flights\n",
       "0    ABE                13332           82.11       119778\n",
       "1    ABI                 1946           68.16        19935\n",
       "2    ABQ               106314           43.36       732747\n",
       "3    ABY                 1358           55.38         7358\n",
       "4    ACK                  409           84.14         1355"
      ]
     },
     "execution_count": 68,
     "metadata": {},
     "output_type": "execute_result"
    }
   ],
   "source": [
    "worst_airports.head()"
   ]
  },
  {
   "cell_type": "code",
   "execution_count": 69,
   "metadata": {},
   "outputs": [],
   "source": [
    "worst_airports['percentage_delay'] = worst_airports.num_delayed_flights / worst_airports.num_flights * 100"
   ]
  },
  {
   "cell_type": "code",
   "execution_count": 70,
   "metadata": {},
   "outputs": [
    {
     "data": {
      "text/html": [
       "<div>\n",
       "<style scoped>\n",
       "    .dataframe tbody tr th:only-of-type {\n",
       "        vertical-align: middle;\n",
       "    }\n",
       "\n",
       "    .dataframe tbody tr th {\n",
       "        vertical-align: top;\n",
       "    }\n",
       "\n",
       "    .dataframe thead th {\n",
       "        text-align: right;\n",
       "    }\n",
       "</style>\n",
       "<table border=\"1\" class=\"dataframe\">\n",
       "  <thead>\n",
       "    <tr style=\"text-align: right;\">\n",
       "      <th></th>\n",
       "      <th>origin</th>\n",
       "      <th>num_delayed_flights</th>\n",
       "      <th>avg_delay_mins</th>\n",
       "      <th>num_flights</th>\n",
       "      <th>percentage_delay</th>\n",
       "    </tr>\n",
       "  </thead>\n",
       "  <tbody>\n",
       "    <tr>\n",
       "      <th>0</th>\n",
       "      <td>ABE</td>\n",
       "      <td>13332</td>\n",
       "      <td>82.11</td>\n",
       "      <td>119778</td>\n",
       "      <td>11.130592</td>\n",
       "    </tr>\n",
       "    <tr>\n",
       "      <th>1</th>\n",
       "      <td>ABI</td>\n",
       "      <td>1946</td>\n",
       "      <td>68.16</td>\n",
       "      <td>19935</td>\n",
       "      <td>9.761726</td>\n",
       "    </tr>\n",
       "    <tr>\n",
       "      <th>2</th>\n",
       "      <td>ABQ</td>\n",
       "      <td>106314</td>\n",
       "      <td>43.36</td>\n",
       "      <td>732747</td>\n",
       "      <td>14.508964</td>\n",
       "    </tr>\n",
       "    <tr>\n",
       "      <th>3</th>\n",
       "      <td>ABY</td>\n",
       "      <td>1358</td>\n",
       "      <td>55.38</td>\n",
       "      <td>7358</td>\n",
       "      <td>18.456102</td>\n",
       "    </tr>\n",
       "    <tr>\n",
       "      <th>4</th>\n",
       "      <td>ACK</td>\n",
       "      <td>409</td>\n",
       "      <td>84.14</td>\n",
       "      <td>1355</td>\n",
       "      <td>30.184502</td>\n",
       "    </tr>\n",
       "  </tbody>\n",
       "</table>\n",
       "</div>"
      ],
      "text/plain": [
       "  origin  num_delayed_flights  avg_delay_mins  num_flights  percentage_delay\n",
       "0    ABE                13332           82.11       119778         11.130592\n",
       "1    ABI                 1946           68.16        19935          9.761726\n",
       "2    ABQ               106314           43.36       732747         14.508964\n",
       "3    ABY                 1358           55.38         7358         18.456102\n",
       "4    ACK                  409           84.14         1355         30.184502"
      ]
     },
     "execution_count": 70,
     "metadata": {},
     "output_type": "execute_result"
    }
   ],
   "source": [
    "worst_airports.head()"
   ]
  },
  {
   "cell_type": "code",
   "execution_count": 71,
   "metadata": {},
   "outputs": [],
   "source": [
    "worst_airports = worst_airports.sort_values(by='percentage_delay', ascending=False)"
   ]
  },
  {
   "cell_type": "code",
   "execution_count": 72,
   "metadata": {},
   "outputs": [
    {
     "data": {
      "text/html": [
       "<div>\n",
       "<style scoped>\n",
       "    .dataframe tbody tr th:only-of-type {\n",
       "        vertical-align: middle;\n",
       "    }\n",
       "\n",
       "    .dataframe tbody tr th {\n",
       "        vertical-align: top;\n",
       "    }\n",
       "\n",
       "    .dataframe thead th {\n",
       "        text-align: right;\n",
       "    }\n",
       "</style>\n",
       "<table border=\"1\" class=\"dataframe\">\n",
       "  <thead>\n",
       "    <tr style=\"text-align: right;\">\n",
       "      <th></th>\n",
       "      <th>origin</th>\n",
       "      <th>num_delayed_flights</th>\n",
       "      <th>avg_delay_mins</th>\n",
       "      <th>num_flights</th>\n",
       "      <th>percentage_delay</th>\n",
       "    </tr>\n",
       "  </thead>\n",
       "  <tbody>\n",
       "    <tr>\n",
       "      <th>29</th>\n",
       "      <td>BFI</td>\n",
       "      <td>1</td>\n",
       "      <td>28.00</td>\n",
       "      <td>1</td>\n",
       "      <td>100.000000</td>\n",
       "    </tr>\n",
       "    <tr>\n",
       "      <th>117</th>\n",
       "      <td>FMN</td>\n",
       "      <td>3</td>\n",
       "      <td>203.67</td>\n",
       "      <td>3</td>\n",
       "      <td>100.000000</td>\n",
       "    </tr>\n",
       "    <tr>\n",
       "      <th>251</th>\n",
       "      <td>PIR</td>\n",
       "      <td>5</td>\n",
       "      <td>53.40</td>\n",
       "      <td>5</td>\n",
       "      <td>100.000000</td>\n",
       "    </tr>\n",
       "    <tr>\n",
       "      <th>81</th>\n",
       "      <td>CYS</td>\n",
       "      <td>2</td>\n",
       "      <td>145.00</td>\n",
       "      <td>2</td>\n",
       "      <td>100.000000</td>\n",
       "    </tr>\n",
       "    <tr>\n",
       "      <th>28</th>\n",
       "      <td>BFF</td>\n",
       "      <td>1</td>\n",
       "      <td>131.00</td>\n",
       "      <td>1</td>\n",
       "      <td>100.000000</td>\n",
       "    </tr>\n",
       "    <tr>\n",
       "      <th>231</th>\n",
       "      <td>OGD</td>\n",
       "      <td>5</td>\n",
       "      <td>172.40</td>\n",
       "      <td>6</td>\n",
       "      <td>83.333333</td>\n",
       "    </tr>\n",
       "    <tr>\n",
       "      <th>65</th>\n",
       "      <td>CKB</td>\n",
       "      <td>4</td>\n",
       "      <td>52.75</td>\n",
       "      <td>8</td>\n",
       "      <td>50.000000</td>\n",
       "    </tr>\n",
       "    <tr>\n",
       "      <th>8</th>\n",
       "      <td>ADK</td>\n",
       "      <td>224</td>\n",
       "      <td>63.45</td>\n",
       "      <td>521</td>\n",
       "      <td>42.994242</td>\n",
       "    </tr>\n",
       "    <tr>\n",
       "      <th>304</th>\n",
       "      <td>SOP</td>\n",
       "      <td>120</td>\n",
       "      <td>67.03</td>\n",
       "      <td>319</td>\n",
       "      <td>37.617555</td>\n",
       "    </tr>\n",
       "    <tr>\n",
       "      <th>4</th>\n",
       "      <td>ACK</td>\n",
       "      <td>409</td>\n",
       "      <td>84.14</td>\n",
       "      <td>1355</td>\n",
       "      <td>30.184502</td>\n",
       "    </tr>\n",
       "  </tbody>\n",
       "</table>\n",
       "</div>"
      ],
      "text/plain": [
       "    origin  num_delayed_flights  avg_delay_mins  num_flights  percentage_delay\n",
       "29     BFI                    1           28.00            1        100.000000\n",
       "117    FMN                    3          203.67            3        100.000000\n",
       "251    PIR                    5           53.40            5        100.000000\n",
       "81     CYS                    2          145.00            2        100.000000\n",
       "28     BFF                    1          131.00            1        100.000000\n",
       "231    OGD                    5          172.40            6         83.333333\n",
       "65     CKB                    4           52.75            8         50.000000\n",
       "8      ADK                  224           63.45          521         42.994242\n",
       "304    SOP                  120           67.03          319         37.617555\n",
       "4      ACK                  409           84.14         1355         30.184502"
      ]
     },
     "execution_count": 72,
     "metadata": {},
     "output_type": "execute_result"
    }
   ],
   "source": [
    "worst_airports.head(10)"
   ]
  },
  {
   "cell_type": "code",
   "execution_count": 73,
   "metadata": {},
   "outputs": [],
   "source": [
    "worst_20 = worst_airports.head(20)"
   ]
  },
  {
   "cell_type": "code",
   "execution_count": 74,
   "metadata": {},
   "outputs": [
    {
     "data": {
      "image/png": "[encoded data removed]",
      "text/plain": [
       "<Figure size 640x480 with 1 Axes>"
      ]
     },
     "metadata": {},
     "output_type": "display_data"
    }
   ],
   "source": [
    "plt.bar(worst_20.origin, worst_20.percentage_delay)\n",
    "plt.title('Airport with the Worst Flight Delays')\n",
    "plt.xlabel('Airports')\n",
    "plt.ylabel('Proportion of Flights Delay (%)')\n",
    "plt.xticks(worst_20.origin, rotation=90);"
   ]
  },
  {
   "cell_type": "markdown",
   "metadata": {},
   "source": [
    "**Observation**: Most of the airports with the worst delays are used majorly by cargo airlines and general aviation aircraft. However, our dataset only reported commercial flights [source](https://en.wikipedia.org/wiki/Boeing_Field).\n",
    "\n",
    "Going forward in our exploration we will only focus on flight delays originating from the top 5 airports and the top 5 airlines operating from those airports."
   ]
  },
  {
   "cell_type": "markdown",
   "metadata": {},
   "source": [
    "### Discuss the distribution(s) of your variable(s) of interest. Were there any unusual points? Did you need to perform any transformations?\n",
    "\n",
    "Flight delay (arr_delay) and Airport delay (dep_delay) variables were unimodal and spread across a wide range of minutes between -1500 and 2500 minutes with most of the data centered between -50 and 50 minutes. I applied a log transform on the y-axis to show data on both sides of the peak."
   ]
  },
  {
   "cell_type": "markdown",
   "metadata": {},
   "source": [
    "### Of the features you investigated, were there any unusual distributions? Did you perform any operations on the data to tidy, adjust, or change the form of the data? If so, why did you do this?\n",
    "\n",
    "All the features investigated where already tidy, I had to clean the data by selecting only non-null values in my SQL queries hence there were no missing values in the dataframes."
   ]
  },
  {
   "cell_type": "markdown",
   "metadata": {},
   "source": [
    "## Bivariate Exploration\n",
    "\n",
    "In this section, I will look at the relationship between: \n",
    "\n",
    "1. Flight and Airport delays\n",
    "2. Flight delay and Airports\n",
    "\n",
    "Furthermore, we will look at the delay trends across:\n",
    "1. The top 5 Airports\n",
    "\n",
    "\n",
    "We will focus only flight originating from the top 5 busiest airports:\n",
    "1. ORD: Chicago O'Hare International\n",
    "2. ATL: William B Hartsfield-Atlanta Intl\n",
    "3. DFW: Dallas-Fort Worth International \n",
    "4. LAX: Los Angeles International\n",
    "5. PHX: Phoenix Sky Harbor International"
   ]
  },
  {
   "cell_type": "markdown",
   "metadata": {},
   "source": [
    "#### Relationship Between Airline and Airport Delays"
   ]
  },
  {
   "cell_type": "code",
   "execution_count": 75,
   "metadata": {},
   "outputs": [
    {
     "name": "stdout",
     "output_type": "stream",
     "text": [
      "Memory usage before optimization 0.35 GB\n",
      "Memory usage after optimization 0.17 GB\n",
      "Total Run Time: 1 minutes\n"
     ]
    }
   ],
   "source": [
    "query = \"\"\"\n",
    "    SELECT dep_delay, arr_delay \n",
    "    FROM flights\n",
    "    WHERE dep_delay >= 15 AND\n",
    "        arr_delay >= 15 AND\n",
    "        dep_delay IS NOT NULL AND\n",
    "        arr_delay IS NOT NULL\n",
    "    \"\"\"\n",
    "\n",
    "delays = query_to_df(query, optimize=True)"
   ]
  },
  {
   "cell_type": "code",
   "execution_count": 76,
   "metadata": {},
   "outputs": [
    {
     "data": {
      "text/html": [
       "<div>\n",
       "<style scoped>\n",
       "    .dataframe tbody tr th:only-of-type {\n",
       "        vertical-align: middle;\n",
       "    }\n",
       "\n",
       "    .dataframe tbody tr th {\n",
       "        vertical-align: top;\n",
       "    }\n",
       "\n",
       "    .dataframe thead th {\n",
       "        text-align: right;\n",
       "    }\n",
       "</style>\n",
       "<table border=\"1\" class=\"dataframe\">\n",
       "  <thead>\n",
       "    <tr style=\"text-align: right;\">\n",
       "      <th></th>\n",
       "      <th>dep_delay</th>\n",
       "      <th>arr_delay</th>\n",
       "    </tr>\n",
       "  </thead>\n",
       "  <tbody>\n",
       "    <tr>\n",
       "      <th>0</th>\n",
       "      <td>19</td>\n",
       "      <td>33</td>\n",
       "    </tr>\n",
       "    <tr>\n",
       "      <th>1</th>\n",
       "      <td>16</td>\n",
       "      <td>24</td>\n",
       "    </tr>\n",
       "    <tr>\n",
       "      <th>2</th>\n",
       "      <td>21</td>\n",
       "      <td>34</td>\n",
       "    </tr>\n",
       "    <tr>\n",
       "      <th>3</th>\n",
       "      <td>87</td>\n",
       "      <td>88</td>\n",
       "    </tr>\n",
       "    <tr>\n",
       "      <th>4</th>\n",
       "      <td>19</td>\n",
       "      <td>23</td>\n",
       "    </tr>\n",
       "  </tbody>\n",
       "</table>\n",
       "</div>"
      ],
      "text/plain": [
       "   dep_delay  arr_delay\n",
       "0         19         33\n",
       "1         16         24\n",
       "2         21         34\n",
       "3         87         88\n",
       "4         19         23"
      ]
     },
     "execution_count": 76,
     "metadata": {},
     "output_type": "execute_result"
    }
   ],
   "source": [
    "delays.head()"
   ]
  },
  {
   "cell_type": "code",
   "execution_count": 77,
   "metadata": {},
   "outputs": [
    {
     "data": {
      "image/png": "[encoded data removed]",
      "text/plain": [
       "<Figure size 640x480 with 1 Axes>"
      ]
     },
     "metadata": {},
     "output_type": "display_data"
    }
   ],
   "source": [
    "plt.scatter(data=delays, x='dep_delay', y='arr_delay', alpha=0.1);\n",
    "plt.title('Airport vs. Airline Delays')\n",
    "plt.xlabel('Departure (Airport) Delay (minutes)')\n",
    "plt.ylabel('Arrival (Airline) Delay (minutes)');"
   ]
  },
  {
   "cell_type": "markdown",
   "metadata": {},
   "source": [
    "This plot suggests there is strong positive relationship between departure and arrival delays, which makes logical sense because a flight that departed late will potential arrival late. Suprisingly, there are flights that departed late and arrived on-time, which are clustered around 1440 minutes. Investigating this further show that flights that were delayed for around 24 hours arrival the next day at about the same time as scheduled.\n",
    "\n",
    "Next, we will look at the relationship between airlines and flight delays."
   ]
  },
  {
   "cell_type": "markdown",
   "metadata": {},
   "source": [
    "#### Relationship between Flight delays and Airports"
   ]
  },
  {
   "cell_type": "code",
   "execution_count": 78,
   "metadata": {},
   "outputs": [
    {
     "name": "stdout",
     "output_type": "stream",
     "text": [
      "Memory usage before optimization 0.74 GB\n",
      "Memory usage after optimization 0.28 GB\n",
      "Total Run Time: 1 minutes\n"
     ]
    }
   ],
   "source": [
    "query = \"\"\"\n",
    "    SELECT id,\n",
    "        origin, \n",
    "        unique_carrier, \n",
    "        date, \n",
    "        dep_delay,\n",
    "        arr_delay\n",
    "    FROM flights\n",
    "    WHERE dep_delay >= 15 AND\n",
    "        arr_delay >= 15 AND\n",
    "        dep_delay IS NOT NULL AND\n",
    "        arr_delay IS NOT NULL AND\n",
    "        origin in ('ORD', 'ATL', 'DFW', 'LAX', 'PHX')\n",
    "    \"\"\"\n",
    "\n",
    "airport_delays = query_to_df(query, optimize=True)"
   ]
  },
  {
   "cell_type": "code",
   "execution_count": 79,
   "metadata": {},
   "outputs": [
    {
     "data": {
      "text/html": [
       "<div>\n",
       "<style scoped>\n",
       "    .dataframe tbody tr th:only-of-type {\n",
       "        vertical-align: middle;\n",
       "    }\n",
       "\n",
       "    .dataframe tbody tr th {\n",
       "        vertical-align: top;\n",
       "    }\n",
       "\n",
       "    .dataframe thead th {\n",
       "        text-align: right;\n",
       "    }\n",
       "</style>\n",
       "<table border=\"1\" class=\"dataframe\">\n",
       "  <thead>\n",
       "    <tr style=\"text-align: right;\">\n",
       "      <th></th>\n",
       "      <th>id</th>\n",
       "      <th>origin</th>\n",
       "      <th>unique_carrier</th>\n",
       "      <th>date</th>\n",
       "      <th>dep_delay</th>\n",
       "      <th>arr_delay</th>\n",
       "    </tr>\n",
       "  </thead>\n",
       "  <tbody>\n",
       "    <tr>\n",
       "      <th>0</th>\n",
       "      <td>96</td>\n",
       "      <td>LAX</td>\n",
       "      <td>PS</td>\n",
       "      <td>1987-10-1</td>\n",
       "      <td>21</td>\n",
       "      <td>31</td>\n",
       "    </tr>\n",
       "    <tr>\n",
       "      <th>1</th>\n",
       "      <td>105</td>\n",
       "      <td>LAX</td>\n",
       "      <td>PS</td>\n",
       "      <td>1987-10-20</td>\n",
       "      <td>22</td>\n",
       "      <td>20</td>\n",
       "    </tr>\n",
       "    <tr>\n",
       "      <th>2</th>\n",
       "      <td>143</td>\n",
       "      <td>LAX</td>\n",
       "      <td>PS</td>\n",
       "      <td>1987-10-6</td>\n",
       "      <td>28</td>\n",
       "      <td>32</td>\n",
       "    </tr>\n",
       "    <tr>\n",
       "      <th>3</th>\n",
       "      <td>156</td>\n",
       "      <td>LAX</td>\n",
       "      <td>PS</td>\n",
       "      <td>1987-10-23</td>\n",
       "      <td>15</td>\n",
       "      <td>36</td>\n",
       "    </tr>\n",
       "    <tr>\n",
       "      <th>4</th>\n",
       "      <td>335</td>\n",
       "      <td>LAX</td>\n",
       "      <td>PS</td>\n",
       "      <td>1987-10-4</td>\n",
       "      <td>25</td>\n",
       "      <td>41</td>\n",
       "    </tr>\n",
       "  </tbody>\n",
       "</table>\n",
       "</div>"
      ],
      "text/plain": [
       "    id origin unique_carrier        date  dep_delay  arr_delay\n",
       "0   96    LAX             PS   1987-10-1         21         31\n",
       "1  105    LAX             PS  1987-10-20         22         20\n",
       "2  143    LAX             PS   1987-10-6         28         32\n",
       "3  156    LAX             PS  1987-10-23         15         36\n",
       "4  335    LAX             PS   1987-10-4         25         41"
      ]
     },
     "execution_count": 79,
     "metadata": {},
     "output_type": "execute_result"
    }
   ],
   "source": [
    "airport_delays.head()"
   ]
  },
  {
   "cell_type": "code",
   "execution_count": 80,
   "metadata": {},
   "outputs": [
    {
     "data": {
      "image/png": "[encoded data removed]",
      "text/plain": [
       "<Figure size 640x480 with 1 Axes>"
      ]
     },
     "metadata": {},
     "output_type": "display_data"
    }
   ],
   "source": [
    "sns.boxplot(data=airport_delays, x='origin', y='dep_delay');"
   ]
  },
  {
   "cell_type": "markdown",
   "metadata": {},
   "source": [
    "The median flight delay at the Chicago O'Hare International airport appears to be the highest across the top 5 airports."
   ]
  },
  {
   "cell_type": "code",
   "execution_count": 81,
   "metadata": {},
   "outputs": [],
   "source": [
    "airport_delays['date'] = pd.to_datetime(airport_delays['date'])"
   ]
  },
  {
   "cell_type": "code",
   "execution_count": 82,
   "metadata": {},
   "outputs": [],
   "source": [
    "airport_delays = airport_delays.set_index('date')"
   ]
  },
  {
   "cell_type": "code",
   "execution_count": 83,
   "metadata": {},
   "outputs": [
    {
     "data": {
      "text/html": [
       "<div>\n",
       "<style scoped>\n",
       "    .dataframe tbody tr th:only-of-type {\n",
       "        vertical-align: middle;\n",
       "    }\n",
       "\n",
       "    .dataframe tbody tr th {\n",
       "        vertical-align: top;\n",
       "    }\n",
       "\n",
       "    .dataframe thead th {\n",
       "        text-align: right;\n",
       "    }\n",
       "</style>\n",
       "<table border=\"1\" class=\"dataframe\">\n",
       "  <thead>\n",
       "    <tr style=\"text-align: right;\">\n",
       "      <th></th>\n",
       "      <th>id</th>\n",
       "      <th>origin</th>\n",
       "      <th>unique_carrier</th>\n",
       "      <th>dep_delay</th>\n",
       "      <th>arr_delay</th>\n",
       "    </tr>\n",
       "    <tr>\n",
       "      <th>date</th>\n",
       "      <th></th>\n",
       "      <th></th>\n",
       "      <th></th>\n",
       "      <th></th>\n",
       "      <th></th>\n",
       "    </tr>\n",
       "  </thead>\n",
       "  <tbody>\n",
       "    <tr>\n",
       "      <th>1987-10-01</th>\n",
       "      <td>96</td>\n",
       "      <td>LAX</td>\n",
       "      <td>PS</td>\n",
       "      <td>21</td>\n",
       "      <td>31</td>\n",
       "    </tr>\n",
       "    <tr>\n",
       "      <th>1987-10-20</th>\n",
       "      <td>105</td>\n",
       "      <td>LAX</td>\n",
       "      <td>PS</td>\n",
       "      <td>22</td>\n",
       "      <td>20</td>\n",
       "    </tr>\n",
       "    <tr>\n",
       "      <th>1987-10-06</th>\n",
       "      <td>143</td>\n",
       "      <td>LAX</td>\n",
       "      <td>PS</td>\n",
       "      <td>28</td>\n",
       "      <td>32</td>\n",
       "    </tr>\n",
       "    <tr>\n",
       "      <th>1987-10-23</th>\n",
       "      <td>156</td>\n",
       "      <td>LAX</td>\n",
       "      <td>PS</td>\n",
       "      <td>15</td>\n",
       "      <td>36</td>\n",
       "    </tr>\n",
       "    <tr>\n",
       "      <th>1987-10-04</th>\n",
       "      <td>335</td>\n",
       "      <td>LAX</td>\n",
       "      <td>PS</td>\n",
       "      <td>25</td>\n",
       "      <td>41</td>\n",
       "    </tr>\n",
       "  </tbody>\n",
       "</table>\n",
       "</div>"
      ],
      "text/plain": [
       "             id origin unique_carrier  dep_delay  arr_delay\n",
       "date                                                       \n",
       "1987-10-01   96    LAX             PS         21         31\n",
       "1987-10-20  105    LAX             PS         22         20\n",
       "1987-10-06  143    LAX             PS         28         32\n",
       "1987-10-23  156    LAX             PS         15         36\n",
       "1987-10-04  335    LAX             PS         25         41"
      ]
     },
     "execution_count": 83,
     "metadata": {},
     "output_type": "execute_result"
    }
   ],
   "source": [
    "airport_delays.head()"
   ]
  },
  {
   "cell_type": "code",
   "execution_count": 84,
   "metadata": {},
   "outputs": [],
   "source": [
    "delay_means = airport_delays.groupby('date').count()['dep_delay'].rolling(window=365).mean()"
   ]
  },
  {
   "cell_type": "code",
   "execution_count": 85,
   "metadata": {},
   "outputs": [
    {
     "data": {
      "text/plain": [
       "date\n",
       "1987-10-01           NaN\n",
       "1987-10-02           NaN\n",
       "1987-10-03           NaN\n",
       "1987-10-04           NaN\n",
       "1987-10-05           NaN\n",
       "                 ...    \n",
       "2008-04-26    890.484932\n",
       "2008-04-27    890.997260\n",
       "2008-04-28    892.561644\n",
       "2008-04-29    892.183562\n",
       "2008-04-30    891.682192\n",
       "Name: dep_delay, Length: 7517, dtype: float64"
      ]
     },
     "execution_count": 85,
     "metadata": {},
     "output_type": "execute_result"
    }
   ],
   "source": [
    "delay_means"
   ]
  },
  {
   "cell_type": "code",
   "execution_count": 86,
   "metadata": {},
   "outputs": [
    {
     "data": {
      "text/plain": [
       "Text(0, 0.5, 'Number of Delayed Flights')"
      ]
     },
     "execution_count": 86,
     "metadata": {},
     "output_type": "execute_result"
    },
    {
     "data": {
      "image/png": "[encoded data removed]",
      "text/plain": [
       "<Figure size 640x480 with 1 Axes>"
      ]
     },
     "metadata": {},
     "output_type": "display_data"
    }
   ],
   "source": [
    "delay_means.plot()\n",
    "plt.axvline('2001-09-11', linewidth=0.5, color='red')\n",
    "plt.axvline('2001-09-11', linewidth=10, color='red', alpha=.1);\n",
    "plt.title('Trend of Airport Delays')\n",
    "plt.xlabel('Year')\n",
    "plt.ylabel('Number of Delayed Flights')"
   ]
  },
  {
   "cell_type": "code",
   "execution_count": 87,
   "metadata": {},
   "outputs": [],
   "source": [
    "ord = airport_delays.groupby(['origin','date']).count()['arr_delay']['ORD'].rolling(365).mean()\n",
    "atl = airport_delays.groupby(['origin','date']).count()['arr_delay']['ATL'].rolling(365).mean()\n",
    "dfw = airport_delays.groupby(['origin','date']).count()['arr_delay']['DFW'].rolling(365).mean()\n",
    "lax = airport_delays.groupby(['origin','date']).count()['arr_delay']['LAX'].rolling(365).mean()\n",
    "phx = airport_delays.groupby(['origin','date']).count()['arr_delay']['PHX'].rolling(365).mean()"
   ]
  },
  {
   "cell_type": "code",
   "execution_count": 88,
   "metadata": {},
   "outputs": [
    {
     "data": {
      "text/plain": [
       "date\n",
       "1987-10-01           NaN\n",
       "1987-10-02           NaN\n",
       "1987-10-03           NaN\n",
       "1987-10-04           NaN\n",
       "1987-10-05           NaN\n",
       "                 ...    \n",
       "2008-04-26    253.564384\n",
       "2008-04-27    253.739726\n",
       "2008-04-28    254.693151\n",
       "2008-04-29    254.550685\n",
       "2008-04-30    254.301370\n",
       "Name: arr_delay, Length: 7517, dtype: float64"
      ]
     },
     "execution_count": 88,
     "metadata": {},
     "output_type": "execute_result"
    }
   ],
   "source": [
    "ord"
   ]
  },
  {
   "cell_type": "code",
   "execution_count": 89,
   "metadata": {},
   "outputs": [],
   "source": [
    "ticks = [ '{}-01-01'.format(year) for year in range(1988, 2009)]\n",
    "\n",
    "plt.figure(figsize=(15, 10))\n",
    "ord.plot(label='Chicago O\\'Hare International (ORD)')\n",
    "atl.plot(label='William B Hartsfield-Atlanta Intl {ATL}')\n",
    "dfw.plot(label='Dallas-Fort Worth International (DFW)')\n",
    "lax.plot(label='Los Angeles International (LAX)')\n",
    "phx.plot(label='Phoenix Sky Harbor International (PHX)')\n",
    "plt.legend(fontsize=8)\n",
    "plt.axvline('2001-09-11', linewidth=0.5, color='red')\n",
    "plt.axvline('2001-09-11', linewidth=10, color='red', alpha=.1);\n",
    "plt.xticks(ticks, [tick[:4] for tick in ticks]);\n",
    "\n",
    "plt.title('Trend of Airport Across the Top 5 Airports')\n",
    "plt.xlabel('Year')\n",
    "plt.ylabel('Number of Delayed Flights');"
   ]
  },
  {
   "cell_type": "markdown",
   "metadata": {},
   "source": [
    "Generally, the delay trend across airport following a similar pattern. Notably, the delay trend dropped substantially after the 9/11 attacks. Possibly, this may be due to drop in the number of flights in 2002, which led to improved on-time performance. However, the trend resumed again at the beginning of 2003."
   ]
  },
  {
   "cell_type": "markdown",
   "metadata": {},
   "source": [
    "### Talk about some of the relationships you observed in this part of the investigation. How did the feature(s) of interest vary with other features in the dataset?\n",
    "\n",
    "Arrival delays has a strong positive correlation with departure delays. \n",
    "\n",
    "\n",
    "### Did you observe any interesting relationships between the other features (not the main feature(s) of interest)?\n",
    "\n",
    "No other relationship was observed"
   ]
  },
  {
   "cell_type": "markdown",
   "metadata": {},
   "source": [
    "## Multivariate Exploration\n",
    "\n",
    "> Create plots of three or more variables to investigate your data even\n",
    "further. Make sure that your investigations are justified, and follow from\n",
    "your work in the previous sections."
   ]
  },
  {
   "cell_type": "code",
   "execution_count": 91,
   "metadata": {},
   "outputs": [
    {
     "data": {
      "image/png": "[encoded data removed]",
      "text/plain": [
       "<Figure size 2500x500 with 5 Axes>"
      ]
     },
     "metadata": {},
     "output_type": "display_data"
    }
   ],
   "source": [
    "sns.lmplot(data=airport_delays, \n",
    "           x='dep_delay', y='arr_delay', col='origin');"
   ]
  },
  {
   "cell_type": "markdown",
   "metadata": {},
   "source": [
    "### Talk about some of the relationships you observed in this part of the investigation. Were there features that strengthened each other in terms of looking at your feature(s) of interest?\n",
    "\n",
    "There appears to be a strongly positive relationship between arrival and departuren delay across the top 5 airports.\n",
    "\n",
    "### Were there any interesting or surprising interactions between features?\n",
    "\n",
    "None"
   ]
  },
  {
   "cell_type": "markdown",
   "metadata": {},
   "source": [
    "## Conclusions\n",
    "\n",
    "Flight delays are strongly and positively correlated with airport delays. Furthermore, the trend of flight delays have been increasingly steadily over the year, this could be due to the increase in the number of flights generally. \n"
   ]
  },
  {
   "cell_type": "code",
   "execution_count": null,
   "metadata": {},
   "outputs": [],
   "source": []
  }
 ],
 "metadata": {
  "kernelspec": {
   "display_name": "Python 3 (ipykernel)",
   "language": "python",
   "name": "python3"
  },
  "language_info": {
   "codemirror_mode": {
    "name": "ipython",
    "version": 3
   },
   "file_extension": ".py",
   "mimetype": "text/x-python",
   "name": "python",
   "nbconvert_exporter": "python",
   "pygments_lexer": "ipython3",
   "version": "3.10.8"
  }
 },
 "nbformat": 4,
 "nbformat_minor": 2
}
